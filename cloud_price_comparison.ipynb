{
 "cells": [
  {
   "cell_type": "markdown",
   "metadata": {},
   "source": [
    "# A Cloud Price Comparison\n",
    "How do cloud providers stack up?\n",
    " \n",
    "Making apples to apples comparisons between different cloud providers is very difficult, because each one offers instances with varying vCPUs, RAM, SSD space and HDD space. To further obfuscate matters, slightly different billing systems, promises of arcane discounting, only providing pricing in USD, and inconsistent naming conventions are sprinkled throughout.\n",
    "\n",
    "As an attempt to provide a clearer price comparison, I'll be using [multiple linear regression](https://en.wikipedia.org/wiki/Linear_regression) to \"[normalise](http://bit.ly/2xIUM5C)\" the pricing of compute instances across different cloud providers.\n",
    "\n",
    "In essence, **If every cloud provider offered the same size compute instances, how expensive would they be?**"
   ]
  },
  {
   "cell_type": "markdown",
   "metadata": {},
   "source": [
    "## Todo\n",
    "\n",
    "* Account for GST"
   ]
  },
  {
   "cell_type": "markdown",
   "metadata": {},
   "source": [
    " ## Importing libraries"
   ]
  },
  {
   "cell_type": "code",
   "execution_count": 6,
   "metadata": {
    "scrolled": false
   },
   "outputs": [
    {
     "name": "stdout",
     "output_type": "stream",
     "text": [
      "Populating the interactive namespace from numpy and matplotlib\n"
     ]
    }
   ],
   "source": [
    "import pandas as pd\n",
    "import os\n",
    "from sklearn.linear_model import LinearRegression\n",
    "import matplotlib.pyplot as plt\n",
    "import requests\n",
    "import json\n",
    "import re\n",
    "from bs4 import BeautifulSoup\n",
    "%pylab inline"
   ]
  },
  {
   "cell_type": "markdown",
   "metadata": {},
   "source": [
    "## The dataset\n",
    "\n",
    "I'll be taking the price tables of:\n",
    "* Google Cloud - [Predefined machine types](https://cloud.google.com/compute/pricing#predefined_machine_types)\n",
    "* AWS - [On demand instances](https://aws.amazon.com/ec2/pricing/on-demand/)\n",
    "* Azure - [Linux virtual machines](https://azure.microsoft.com/en-us/pricing/details/virtual-machines/linux/)\n",
    "\n",
    "and converting them into the instance sizes offered by [Catalyst Cloud](https://www.catalyst.net.nz/catalyst-cloud/prices). You can find the datasets and their sources [here](https://github.com/catalyst-cloud/catalystcloud-price-comparison/raw/master/dataset/Cloud%20price%20comparison.ods)."
   ]
  },
  {
   "cell_type": "code",
   "execution_count": 7,
   "metadata": {},
   "outputs": [],
   "source": [
    "# Initial variables\n",
    "\n",
    "# List of existing dataset files\n",
    "datasets = os.listdir('dataset')\n",
    "\n",
    "# Refresh datasets?\n",
    "fresh = False"
   ]
  },
  {
   "cell_type": "markdown",
   "metadata": {},
   "source": [
    "### Exchange rate\n",
    "Getting the USD to NZD exchange rate"
   ]
  },
  {
   "cell_type": "code",
   "execution_count": 3,
   "metadata": {},
   "outputs": [],
   "source": [
    "usd_to_nzd_exchange_rate_url = 'http://free.currencyconverterapi.com/api/v5/convert?q=USD_NZD&compact=y'\n",
    "\n",
    "usd_to_nzd_exchange_rate_json = requests.get(usd_to_nzd_exchange_rate_url).json()\n",
    "usd_to_nzd_exchange_rate = float(usd_to_nzd_exchange_rate_json['USD_NZD']['val'])"
   ]
  },
  {
   "cell_type": "markdown",
   "metadata": {},
   "source": [
    "### Catalyst Cloud prices\n",
    "Scraping the Catalyst Cloud compute page for prices"
   ]
  },
  {
   "cell_type": "code",
   "execution_count": 1,
   "metadata": {},
   "outputs": [],
   "source": [
    "# Variables\n",
    "\n",
    "catalyst_url = 'https://catalystcloud.nz/services/iaas/compute'\n",
    "catalyst_data_location = 'dataset/catalyst_price_data.csv'"
   ]
  },
  {
   "cell_type": "code",
   "execution_count": 4,
   "metadata": {},
   "outputs": [],
   "source": [
    "catalyst_price_page_html = requests.get(catalyst_url).text \n",
    "catalyst_price_page = BeautifulSoup(catalyst_price_page_html, 'html.parser')\n",
    "\n",
    "catalyst_price_table = catalyst_price_page.find(attrs={'class': 'service-price-table'}).tbody\n",
    "catalyst_price_rows = catalyst_price_table.find_all('tr')\n",
    "\n",
    "catalyst_prices_list = []\n",
    "\n",
    "for row in catalyst_price_rows:\n",
    "    catalyst_price_cells = list(row.stripped_strings)\n",
    "    catalyst_prices_list.append({\n",
    "        'Name': catalyst_price_cells[0],\n",
    "        'vCPU': float(catalyst_price_cells[1]),\n",
    "        'RAM, GB': float(catalyst_price_cells[2]),\n",
    "        'Price per hour, NZD (ex GST)': float(catalyst_price_cells[3].strip('$')),\n",
    "        'SSD storage, GB': .0,\n",
    "        'HDD storage, GB': .0\n",
    "    })\n",
    "    \n",
    "pd.DataFrame(catalyst_prices_list).to_csv(catalyst_data_location)"
   ]
  },
  {
   "cell_type": "markdown",
   "metadata": {},
   "source": [
    "### AWS prices\n",
    "\n",
    "Scraping the AWS on demand pricing page for prices"
   ]
  },
  {
   "cell_type": "code",
   "execution_count": 2,
   "metadata": {},
   "outputs": [],
   "source": [
    "# Variables\n",
    "\n",
    "aws_url = 'https://aws.amazon.com/ec2/pricing/on-demand/'\n",
    "aws_raw_location = 'dataset/raw_aws_bulk.json'\n",
    "aws_acceptable_instance_families = [\n",
    "    'General purpose',\n",
    "    'Memory optimized',\n",
    "    'Micro instances'\n",
    "]\n",
    "aws_data_location = 'dataset/aws_price_data.csv'\n"
   ]
  },
  {
   "cell_type": "code",
   "execution_count": 5,
   "metadata": {},
   "outputs": [
    {
     "name": "stdout",
     "output_type": "stream",
     "text": [
      "AWS raw dataset already dowloaded.\n"
     ]
    }
   ],
   "source": [
    "if aws_raw_location.split('/')[1] not in datasets or fresh:\n",
    "    aws_bulk_json_requeset = requests.get(aws_url)\n",
    "    aws_bulk_json = aws_bulk_json_requeset.json()\n",
    "    with open(aws_raw_location, 'w') as aws_raw_file:\n",
    "        json.dump(aws_bulk_json, aws_raw_file)\n",
    "    print('Downloaded most recent AWS price list.')\n",
    "else:\n",
    "    print('AWS raw dataset already dowloaded.')"
   ]
  },
  {
   "cell_type": "markdown",
   "metadata": {},
   "source": [
    "Extracting the specific relevant prices from the raw AWS file, and putting them in a consistant, usable format."
   ]
  },
  {
   "cell_type": "code",
   "execution_count": 7,
   "metadata": {},
   "outputs": [],
   "source": [
    "# Getting the instance products\n",
    "\n",
    "with open(aws_raw_location, 'r') as aws_raw_file:\n",
    "    aws_raw_json = json.load(aws_raw_file)\n",
    "        \n",
    "    aws_instances_list = []\n",
    "            \n",
    "    for product in aws_raw_json['products']:\n",
    "        \n",
    "        productFamily = aws_raw_json['products'][product]['productFamily']\n",
    "        \n",
    "        # Check product is compute instance\n",
    "        if productFamily == 'Compute Instance':\n",
    "                        \n",
    "            # Check if instance is appropriate\n",
    "            instanceFamily = aws_raw_json['products'][product]['attributes']['instanceFamily']\n",
    "            is_current_gen = aws_raw_json['products'][product]['attributes']['currentGeneration'] == 'Yes'\n",
    "            is_linux = aws_raw_json['products'][product]['attributes']['operatingSystem'] == 'Linux'\n",
    "            no_preInstalledSw = aws_raw_json['products'][product]['attributes']['preInstalledSw'] == 'NA'\n",
    "            is_shared_instance = aws_raw_json['products'][product]['attributes']['tenancy'] == 'Shared'\n",
    "\n",
    "            if instanceFamily in aws_acceptable_instance_families and is_current_gen \\\n",
    "                and is_linux and no_preInstalledSw and is_shared_instance:\n",
    "                \n",
    "                # Append if appropriate\n",
    "                aws_instances_list.append(product)"
   ]
  },
  {
   "cell_type": "code",
   "execution_count": 8,
   "metadata": {
    "scrolled": false
   },
   "outputs": [],
   "source": [
    "with open(aws_raw_location, 'r') as aws_raw_file:\n",
    "    \n",
    "    aws_prices_list = []\n",
    "    \n",
    "    for instance_key in aws_instances_list:\n",
    "\n",
    "        attributes = aws_raw_json['products'][instance_key]['attributes']\n",
    "                    \n",
    "        # Get vCPU and RAM\n",
    "        vCPU = float(attributes['vcpu'].replace(',',''))\n",
    "        RAM = float(attributes['memory'].split(' ')[0].replace(',',''))\n",
    "\n",
    "        # Break storage spec into array\n",
    "        storage_strings = attributes['storage'].split(' ')\n",
    "\n",
    "        # Find where the numbers end (200 x 1), and the description of the storage type (SSD) starts.\n",
    "        final_num_index = None\n",
    "        for word in storage_strings[::-1]:\n",
    "            try:\n",
    "                float(word.replace(',', ''))\n",
    "                final_num_index = storage_strings.index(word)\n",
    "                break\n",
    "            except:\n",
    "                foo = None\n",
    "\n",
    "        # If there are no numbers in the storage spec, there is no storage included\n",
    "        if final_num_index == None:\n",
    "\n",
    "            total_ssd = .0\n",
    "            total_hdd = .0\n",
    "\n",
    "        # Else...\n",
    "        else:\n",
    "\n",
    "            # Perform the math to figure out how many GB of storage is included\n",
    "            storage_calcs = storage_strings[0:final_num_index+1]\n",
    "            storage_volume = eval(' '.join(['*' if x=='x' else x.replace(',', '') for x in storage_calcs]))\n",
    "\n",
    "            # discern the type of storage\n",
    "            if 'HDD' in storage_strings:                        \n",
    "                total_ssd = .0\n",
    "                total_hdd = float(storage_volume)\n",
    "\n",
    "            elif 'SSD' in storage_strings:                        \n",
    "                total_ssd = float(storage_volume)\n",
    "                total_hdd = .0\n",
    "            else: \n",
    "                total_ssd = float(storage_volume)\n",
    "                total_hdd = .0\n",
    "\n",
    "\n",
    "        # Get the price per USD\n",
    "        terms = aws_raw_json['terms']['OnDemand'][instance_key]\n",
    "        usd_price = None\n",
    "        for specific_term in terms:\n",
    "            for dimension_key in terms[specific_term]['priceDimensions']:\n",
    "                dimension = terms[specific_term]['priceDimensions'][dimension_key]\n",
    "                if dimension['unit'] != 'Hrs': raise ValueError(\"This price isn't in hours\")\n",
    "                usd_price = float(dimension['pricePerUnit']['USD'])\n",
    "\n",
    "        # Convert to NZD\n",
    "        nzd_price = usd_price * usd_to_nzd_exchange_rate\n",
    "                \n",
    "        # Append to list of prices\n",
    "        aws_prices_list.append({\n",
    "            'Name': attributes['instanceType'],\n",
    "            'vCPU': vCPU,\n",
    "            'RAM, GB': RAM,\n",
    "            'Price per hour, NZD (ex GST)': nzd_price,\n",
    "            'SSD storage, GB': total_ssd,\n",
    "            'HDD storage, GB': total_hdd\n",
    "        })\n",
    "\n",
    "# Convert to CSV\n",
    "pd.DataFrame(aws_prices_list).to_csv(aws_data_location)"
   ]
  },
  {
   "cell_type": "markdown",
   "metadata": {},
   "source": [
    "### Google Cloud prices\n",
    "\n",
    "Scraping Google Cloud's documentation for prices of custom instance sizes."
   ]
  },
  {
   "cell_type": "code",
   "execution_count": 8,
   "metadata": {},
   "outputs": [],
   "source": [
    "# Variables\n",
    "\n",
    "google_url = 'https://cloud.google.com/compute/pricing'\n",
    "google_price_type = 'syd-hourly'\n",
    "google_acceptable_instance_families = [\n",
    "    'standard_machine_types',\n",
    "    'high-memory_machine_types',\n",
    "    'high-cpu_machine_types'\n",
    "]\n",
    "google_data_location = 'dataset/google_price_data.csv'"
   ]
  },
  {
   "cell_type": "code",
   "execution_count": 9,
   "metadata": {},
   "outputs": [],
   "source": [
    "google_price_page_html = requests.get(google_url).text\n",
    "google_price_page = BeautifulSoup(google_price_page_html, 'html.parser')"
   ]
  },
  {
   "cell_type": "code",
   "execution_count": 10,
   "metadata": {},
   "outputs": [],
   "source": [
    "# Extract the USD price per vCPU and per GB RAM\n",
    "google_custom_compute_price_table = google_price_page.find(id='custommachinetypepricing').find_next('table')\n",
    "google_custom_compute_rows = google_custom_compute_price_table.find_all('tr')[1:]\n",
    "\n",
    "google_per_vcpu_usd = float(google_custom_compute_rows[0].find_all('td')[1][google_price_type].split()[0].strip('$'))\n",
    "google_per_ram_usd = float(google_custom_compute_rows[1].find_all('td')[1][google_price_type].split()[0].strip('$'))"
   ]
  },
  {
   "cell_type": "code",
   "execution_count": 11,
   "metadata": {},
   "outputs": [],
   "source": [
    "def most_freq_num(text):\n",
    "    number_list = re.findall('\\d*\\.?\\d+', text)\n",
    "    most_frequent_num = max(set(number_list), key=number_list.count)\n",
    "    return float(most_frequent_num)"
   ]
  },
  {
   "cell_type": "code",
   "execution_count": 12,
   "metadata": {
    "scrolled": false
   },
   "outputs": [],
   "source": [
    "\n",
    "google_prices_list = []\n",
    "\n",
    "for instance_type in google_acceptable_instance_families:\n",
    "    \n",
    "    google_price_table = google_price_page.find(id=instance_type).find_next('table')\n",
    "    google_rows = google_price_table.find_all('tr')[1:-1]\n",
    "        \n",
    "    for row in google_rows:\n",
    "        \n",
    "        # Extract number of vCPUs and GB of RAM\n",
    "        try:\n",
    "            cells = row.find_all('td')\n",
    "            name = cells[0].get_text().strip()\n",
    "            # Ignore if has lake in name (to remove skylake instances)\n",
    "            if 'lake' in name:\n",
    "                continue\n",
    "            cpu_val = most_freq_num(str(cells[1]))\n",
    "            ram_val = most_freq_num(str(cells[2]))\n",
    "        except:\n",
    "            foo='bar'\n",
    "                        \n",
    "        # Calcluate NZD price\n",
    "        usd_price = (google_per_ram_usd * ram_val) + (google_per_vcpu_usd * cpu_val)\n",
    "        nzd_price = usd_price * usd_to_nzd_exchange_rate\n",
    "        \n",
    "        try:\n",
    "            google_prices_list.append({\n",
    "                'Name': name,\n",
    "                'vCPU': cpu_val,\n",
    "                'RAM, GB': ram_val,\n",
    "                'Price per hour, NZD (ex GST)': usd_price,\n",
    "                'SSD storage, GB': .0,\n",
    "                'HDD storage, GB': .0\n",
    "            })\n",
    "        except:\n",
    "            continue\n",
    "\n",
    "pd.DataFrame(google_prices_list).to_csv(google_data_location)"
   ]
  },
  {
   "cell_type": "markdown",
   "metadata": {},
   "source": [
    "### Azure cloud prices\n",
    "Get Azure pricing from community maintained price list. This is because it is too difficult to scrape the Azure pricing page, and they maintain no APIs."
   ]
  },
  {
   "cell_type": "code",
   "execution_count": 49,
   "metadata": {},
   "outputs": [],
   "source": [
    "# Variables\n",
    "azure_url = 'https://azure.microsoft.com/en-us/pricing/details/virtual-machines/linux/'\n",
    "azure_raw_location = 'dataset/raw_azure_bulk.json'\n",
    "azure_data_location = 'dataset/azure_price_data.csv'\n",
    "azure_acceptable_instance_families = [\n",
    "    'b-series',\n",
    "    'a-series',\n",
    "    'd-series',\n",
    "    'e-series'\n",
    "]\n",
    "azure_acceptable_regions = [\n",
    "    'australia-central',\n",
    "    'australia-central-2',\n",
    "    'australia-east',\n",
    "    'australia-southeast'\n",
    "]"
   ]
  },
  {
   "cell_type": "code",
   "execution_count": 41,
   "metadata": {},
   "outputs": [],
   "source": [
    "azure_price_page_html = requests.get(azure_url).text\n",
    "azure_price_page = BeautifulSoup(azure_price_page_html, 'html.parser')"
   ]
  },
  {
   "cell_type": "code",
   "execution_count": 50,
   "metadata": {
    "scrolled": true
   },
   "outputs": [
    {
     "name": "stdout",
     "output_type": "stream",
     "text": [
      "B1S\n",
      " \n",
      "A1 v2\n",
      " \n",
      "D2 v3\n",
      " \n",
      "D2s v3\n",
      " \n",
      "D2 v2 Promo\n",
      " \n",
      "D1 v2\n",
      " \n",
      "DS1 v2\n",
      " \n",
      "D11 v2 Promo\n",
      " \n",
      "D11 v2\n",
      " \n",
      "DS11 v2\n",
      " \n",
      "E2 v3\n",
      " \n",
      "E2s v3\n",
      " \n",
      "12\n"
     ]
    }
   ],
   "source": [
    "# Find all appropriate price tables\n",
    "appropriate_price_tables = []\n",
    "for family_id in azure_acceptable_instance_families:\n",
    "    price_table_titles = azure_price_page.find_all(id=family_id)\n",
    "    appropriate_price_tables += [x.find_next('table', class_='sd-table') for x in price_table_titles]\n",
    "            \n",
    "for item in appropriate_price_tables:\n",
    "    print(item.find_all('tr')[1].find_all('td')[1].string)\n",
    "    print(' ')\n",
    "    \n",
    "print(len(appropriate_price_tables))"
   ]
  },
  {
   "cell_type": "code",
   "execution_count": 13,
   "metadata": {},
   "outputs": [
    {
     "name": "stdout",
     "output_type": "stream",
     "text": [
      "Azure raw dataset already dowloaded.\n"
     ]
    }
   ],
   "source": [
    "# azure_price_xml =  requests.get(azure_url).content\n",
    "\n",
    "if azure_raw_location.split('/')[1] not in datasets or fresh:\n",
    "    azure_bulk_json_requeset = requests.get(azure_url)\n",
    "    azure_bulk_json = azure_bulk_json_requeset.json()\n",
    "    with open(azure_raw_location, 'w') as azure_raw_file:\n",
    "        json.dump(azure_bulk_json, azure_raw_file)\n",
    "    print('Downloaded most recent Azure price list.')\n",
    "else:\n",
    "    print('Azure raw dataset already dowloaded.')"
   ]
  },
  {
   "cell_type": "code",
   "execution_count": 26,
   "metadata": {},
   "outputs": [
    {
     "name": "stdout",
     "output_type": "stream",
     "text": [
      "Standard_A0 $0.029 {'MaxUncachedDiskPerfIOPS': None, 'DiskInfo': \"<div class='additionalinfo'><span class='value'>1x500</span> <span class='description'>Max data disk throughput: IOPS</span> <br /></div>\", 'MaxCachedDiskPerfIOPSMbps': None, 'MaxCachedDiskPerfIOPS': None, 'SizeName': 'Standard_A0', 'MaxNICExpectedBandwidth': '2 ', 'MaxTempStoragePerfIOPS': None, 'MaxUncachedDiskPerfIOPSMbps': None, 'MaxTempStoragePerfIOPSMbps': None, 'vCPUs': 1, 'RegionName': 'Australia Southeast', 'SeriesName': \"<a href='https://docs.microsoft.com/en-us/azure/virtual-machines/windows/sizes-general#a-series' target='_blank'>A</a>\", 'MemoryGB': '0.768', 'SizeCategory': 'General Purpose', 'Pricing_PAYG_W': '$0.029', 'CacheSizeGiB': None, 'MaxDataDiskCount': 1, 'NetworkBandwidthMbps': ' 100', 'TempDiskSize': 20, 'AdditionalInfo': \"<div class='additionalinfo'></div\", 'Pricing_PAYG_L': '$0.029', 'GPU': None}\n",
      "Standard_A1 $0.071 {'MaxUncachedDiskPerfIOPS': None, 'DiskInfo': \"<div class='additionalinfo'><span class='value'>2x500</span> <span class='description'>Max data disk throughput: IOPS</span> <br /></div>\", 'MaxCachedDiskPerfIOPSMbps': None, 'MaxCachedDiskPerfIOPS': None, 'SizeName': 'Standard_A1', 'MaxNICExpectedBandwidth': '2 ', 'MaxTempStoragePerfIOPS': None, 'MaxUncachedDiskPerfIOPSMbps': None, 'MaxTempStoragePerfIOPSMbps': None, 'vCPUs': 1, 'RegionName': 'Australia Southeast', 'SeriesName': \"<a href='https://docs.microsoft.com/en-us/azure/virtual-machines/windows/sizes-general#a-series' target='_blank'>A</a>\", 'MemoryGB': '1.75', 'SizeCategory': 'General Purpose', 'Pricing_PAYG_W': '$0.113', 'CacheSizeGiB': None, 'MaxDataDiskCount': 2, 'NetworkBandwidthMbps': ' 500', 'TempDiskSize': 70, 'AdditionalInfo': \"<div class='additionalinfo'></div\", 'Pricing_PAYG_L': '$0.071', 'GPU': None}\n",
      "Standard_A2 $0.142 {'MaxUncachedDiskPerfIOPS': None, 'DiskInfo': \"<div class='additionalinfo'><span class='value'>4x500</span> <span class='description'>Max data disk throughput: IOPS</span> <br /></div>\", 'MaxCachedDiskPerfIOPSMbps': None, 'MaxCachedDiskPerfIOPS': None, 'SizeName': 'Standard_A2', 'MaxNICExpectedBandwidth': '2 ', 'MaxTempStoragePerfIOPS': None, 'MaxUncachedDiskPerfIOPSMbps': None, 'MaxTempStoragePerfIOPSMbps': None, 'vCPUs': 2, 'RegionName': 'Australia Southeast', 'SeriesName': \"<a href='https://docs.microsoft.com/en-us/azure/virtual-machines/windows/sizes-general#a-series' target='_blank'>A</a>\", 'MemoryGB': '3.5', 'SizeCategory': 'General Purpose', 'Pricing_PAYG_W': '$0.226', 'CacheSizeGiB': None, 'MaxDataDiskCount': 4, 'NetworkBandwidthMbps': ' 500', 'TempDiskSize': 135, 'AdditionalInfo': \"<div class='additionalinfo'></div\", 'Pricing_PAYG_L': '$0.142', 'GPU': None}\n",
      "Standard_A3 $0.284 {'MaxUncachedDiskPerfIOPS': None, 'DiskInfo': \"<div class='additionalinfo'><span class='value'>8x500</span> <span class='description'>Max data disk throughput: IOPS</span> <br /></div>\", 'MaxCachedDiskPerfIOPSMbps': None, 'MaxCachedDiskPerfIOPS': None, 'SizeName': 'Standard_A3', 'MaxNICExpectedBandwidth': '2 ', 'MaxTempStoragePerfIOPS': None, 'MaxUncachedDiskPerfIOPSMbps': None, 'MaxTempStoragePerfIOPSMbps': None, 'vCPUs': 4, 'RegionName': 'Australia Southeast', 'SeriesName': \"<a href='https://docs.microsoft.com/en-us/azure/virtual-machines/windows/sizes-general#a-series' target='_blank'>A</a>\", 'MemoryGB': '7', 'SizeCategory': 'General Purpose', 'Pricing_PAYG_W': '$0.452', 'CacheSizeGiB': None, 'MaxDataDiskCount': 8, 'NetworkBandwidthMbps': ' 1000', 'TempDiskSize': 285, 'AdditionalInfo': \"<div class='additionalinfo'></div\", 'Pricing_PAYG_L': '$0.284', 'GPU': None}\n",
      "Standard_A5 $0.278 {'MaxUncachedDiskPerfIOPS': None, 'DiskInfo': \"<div class='additionalinfo'><span class='value'>4x500</span> <span class='description'>Max data disk throughput: IOPS</span> <br /></div>\", 'MaxCachedDiskPerfIOPSMbps': None, 'MaxCachedDiskPerfIOPS': None, 'SizeName': 'Standard_A5', 'MaxNICExpectedBandwidth': '2 ', 'MaxTempStoragePerfIOPS': None, 'MaxUncachedDiskPerfIOPSMbps': None, 'MaxTempStoragePerfIOPSMbps': None, 'vCPUs': 2, 'RegionName': 'Australia Southeast', 'SeriesName': \"<a href='https://docs.microsoft.com/en-us/azure/virtual-machines/windows/sizes-general#a-series' target='_blank'>A</a>\", 'MemoryGB': '14', 'SizeCategory': 'General Purpose', 'Pricing_PAYG_W': '$0.349', 'CacheSizeGiB': None, 'MaxDataDiskCount': 4, 'NetworkBandwidthMbps': ' 500', 'TempDiskSize': 135, 'AdditionalInfo': \"<div class='additionalinfo'></div\", 'Pricing_PAYG_L': '$0.278', 'GPU': None}\n",
      "Standard_A4 $0.568 {'MaxUncachedDiskPerfIOPS': None, 'DiskInfo': \"<div class='additionalinfo'><span class='value'>16x500</span> <span class='description'>Max data disk throughput: IOPS</span> <br /></div>\", 'MaxCachedDiskPerfIOPSMbps': None, 'MaxCachedDiskPerfIOPS': None, 'SizeName': 'Standard_A4', 'MaxNICExpectedBandwidth': '4 ', 'MaxTempStoragePerfIOPS': None, 'MaxUncachedDiskPerfIOPSMbps': None, 'MaxTempStoragePerfIOPSMbps': None, 'vCPUs': 8, 'RegionName': 'Australia Southeast', 'SeriesName': \"<a href='https://docs.microsoft.com/en-us/azure/virtual-machines/windows/sizes-general#a-series' target='_blank'>A</a>\", 'MemoryGB': '14', 'SizeCategory': 'General Purpose', 'Pricing_PAYG_W': '$0.904', 'CacheSizeGiB': None, 'MaxDataDiskCount': 16, 'NetworkBandwidthMbps': ' 2000', 'TempDiskSize': 605, 'AdditionalInfo': \"<div class='additionalinfo'></div\", 'Pricing_PAYG_L': '$0.568', 'GPU': None}\n",
      "Standard_A6 $0.556 {'MaxUncachedDiskPerfIOPS': None, 'DiskInfo': \"<div class='additionalinfo'><span class='value'>8x500</span> <span class='description'>Max data disk throughput: IOPS</span> <br /></div>\", 'MaxCachedDiskPerfIOPSMbps': None, 'MaxCachedDiskPerfIOPS': None, 'SizeName': 'Standard_A6', 'MaxNICExpectedBandwidth': '2 ', 'MaxTempStoragePerfIOPS': None, 'MaxUncachedDiskPerfIOPSMbps': None, 'MaxTempStoragePerfIOPSMbps': None, 'vCPUs': 4, 'RegionName': 'Australia Southeast', 'SeriesName': \"<a href='https://docs.microsoft.com/en-us/azure/virtual-machines/windows/sizes-general#a-series' target='_blank'>A</a>\", 'MemoryGB': '28', 'SizeCategory': 'General Purpose', 'Pricing_PAYG_W': '$0.698', 'CacheSizeGiB': None, 'MaxDataDiskCount': 8, 'NetworkBandwidthMbps': ' 1000', 'TempDiskSize': 285, 'AdditionalInfo': \"<div class='additionalinfo'></div\", 'Pricing_PAYG_L': '$0.556', 'GPU': None}\n",
      "Standard_A7 $1.112 {'MaxUncachedDiskPerfIOPS': None, 'DiskInfo': \"<div class='additionalinfo'><span class='value'>16x500</span> <span class='description'>Max data disk throughput: IOPS</span> <br /></div>\", 'MaxCachedDiskPerfIOPSMbps': None, 'MaxCachedDiskPerfIOPS': None, 'SizeName': 'Standard_A7', 'MaxNICExpectedBandwidth': '4 ', 'MaxTempStoragePerfIOPS': None, 'MaxUncachedDiskPerfIOPSMbps': None, 'MaxTempStoragePerfIOPSMbps': None, 'vCPUs': 8, 'RegionName': 'Australia Southeast', 'SeriesName': \"<a href='https://docs.microsoft.com/en-us/azure/virtual-machines/windows/sizes-general#a-series' target='_blank'>A</a>\", 'MemoryGB': '56', 'SizeCategory': 'General Purpose', 'Pricing_PAYG_W': '$1.396', 'CacheSizeGiB': None, 'MaxDataDiskCount': 16, 'NetworkBandwidthMbps': ' 2000', 'TempDiskSize': 605, 'AdditionalInfo': \"<div class='additionalinfo'></div\", 'Pricing_PAYG_L': '$1.112', 'GPU': None}\n",
      "Standard_D1 $0.093 {'MaxUncachedDiskPerfIOPS': None, 'DiskInfo': \"<div class='additionalinfo'><span class='value'>3000 / 46 / 23</span> <span class='description'>Max temp storage throughput: IOPS / Read MBps / Write MBps</span> <br /><span class='value'>4 / 4x500</span> <span class='description'>Max data disks / throughput: IOPS</span> <br /></div>\", 'MaxCachedDiskPerfIOPSMbps': 'Read:  46 / Write:  23', 'MaxCachedDiskPerfIOPS': '3000 ', 'SizeName': 'Standard_D1', 'MaxNICExpectedBandwidth': '2 ', 'MaxTempStoragePerfIOPS': '3000 ', 'MaxUncachedDiskPerfIOPSMbps': None, 'MaxTempStoragePerfIOPSMbps': 'Read:  46 / Write:  23', 'vCPUs': 1, 'RegionName': 'Australia Southeast', 'SeriesName': \"<a href='https://docs.microsoft.com/en-us/azure/virtual-machines/windows/sizes-general#d-series' target='_blank'>D</a>\", 'MemoryGB': '3.5', 'SizeCategory': 'General Purpose', 'Pricing_PAYG_W': '$0.156', 'CacheSizeGiB': None, 'MaxDataDiskCount': 4, 'NetworkBandwidthMbps': ' 500', 'TempDiskSize': 50, 'AdditionalInfo': \"<div class='additionalinfo'></div\", 'Pricing_PAYG_L': '$0.093', 'GPU': None}\n",
      "Standard_D2 $0.186 {'MaxUncachedDiskPerfIOPS': None, 'DiskInfo': \"<div class='additionalinfo'><span class='value'>6000 / 93 / 46</span> <span class='description'>Max temp storage throughput: IOPS / Read MBps / Write MBps</span> <br /><span class='value'>8 / 8x500</span> <span class='description'>Max data disks / throughput: IOPS</span> <br /></div>\", 'MaxCachedDiskPerfIOPSMbps': 'Read:  93 / Write:  46', 'MaxCachedDiskPerfIOPS': '6000 ', 'SizeName': 'Standard_D2', 'MaxNICExpectedBandwidth': '2 ', 'MaxTempStoragePerfIOPS': '6000 ', 'MaxUncachedDiskPerfIOPSMbps': None, 'MaxTempStoragePerfIOPSMbps': 'Read:  93 / Write:  46', 'vCPUs': 2, 'RegionName': 'Australia Southeast', 'SeriesName': \"<a href='https://docs.microsoft.com/en-us/azure/virtual-machines/windows/sizes-general#d-series' target='_blank'>D</a>\", 'MemoryGB': '7', 'SizeCategory': 'General Purpose', 'Pricing_PAYG_W': '$0.312', 'CacheSizeGiB': None, 'MaxDataDiskCount': 8, 'NetworkBandwidthMbps': ' 1000', 'TempDiskSize': 100, 'AdditionalInfo': \"<div class='additionalinfo'></div\", 'Pricing_PAYG_L': '$0.186', 'GPU': None}\n",
      "Standard_D3 $0.372 {'MaxUncachedDiskPerfIOPS': None, 'DiskInfo': \"<div class='additionalinfo'><span class='value'>12000 / 187 / 93</span> <span class='description'>Max temp storage throughput: IOPS / Read MBps / Write MBps</span> <br /><span class='value'>16 / 16x500</span> <span class='description'>Max data disks / throughput: IOPS</span> <br /></div>\", 'MaxCachedDiskPerfIOPSMbps': 'Read:  187 / Write:  93', 'MaxCachedDiskPerfIOPS': '12000 ', 'SizeName': 'Standard_D3', 'MaxNICExpectedBandwidth': '4 ', 'MaxTempStoragePerfIOPS': '12000 ', 'MaxUncachedDiskPerfIOPSMbps': None, 'MaxTempStoragePerfIOPSMbps': 'Read:  187 / Write:  93', 'vCPUs': 4, 'RegionName': 'Australia Southeast', 'SeriesName': \"<a href='https://docs.microsoft.com/en-us/azure/virtual-machines/windows/sizes-general#d-series' target='_blank'>D</a>\", 'MemoryGB': '14', 'SizeCategory': 'General Purpose', 'Pricing_PAYG_W': '$0.624', 'CacheSizeGiB': None, 'MaxDataDiskCount': 16, 'NetworkBandwidthMbps': ' 2000', 'TempDiskSize': 200, 'AdditionalInfo': \"<div class='additionalinfo'></div\", 'Pricing_PAYG_L': '$0.372', 'GPU': None}\n",
      "Standard_D4 $0.744 {'MaxUncachedDiskPerfIOPS': None, 'DiskInfo': \"<div class='additionalinfo'><span class='value'>24000 / 375 / 187</span> <span class='description'>Max temp storage throughput: IOPS / Read MBps / Write MBps</span> <br /><span class='value'>32 / 32x500</span> <span class='description'>Max data disks / throughput: IOPS</span> <br /></div>\", 'MaxCachedDiskPerfIOPSMbps': 'Read:  375 / Write:  187', 'MaxCachedDiskPerfIOPS': '24000 ', 'SizeName': 'Standard_D4', 'MaxNICExpectedBandwidth': '8 ', 'MaxTempStoragePerfIOPS': '24000 ', 'MaxUncachedDiskPerfIOPSMbps': None, 'MaxTempStoragePerfIOPSMbps': 'Read:  375 / Write:  187', 'vCPUs': 8, 'RegionName': 'Australia Southeast', 'SeriesName': \"<a href='https://docs.microsoft.com/en-us/azure/virtual-machines/windows/sizes-general#d-series' target='_blank'>D</a>\", 'MemoryGB': '28', 'SizeCategory': 'General Purpose', 'Pricing_PAYG_W': '$1.248', 'CacheSizeGiB': None, 'MaxDataDiskCount': 32, 'NetworkBandwidthMbps': ' 4000', 'TempDiskSize': 400, 'AdditionalInfo': \"<div class='additionalinfo'></div\", 'Pricing_PAYG_L': '$0.744', 'GPU': None}\n",
      "Standard_D11 $0.210 {'MaxUncachedDiskPerfIOPS': None, 'DiskInfo': \"<div class='additionalinfo'><span class='value'>6000 / 93 / 46</span> <span class='description'>Max temp storage throughput: IOPS / Read MBps / Write MBps</span> <br /><span class='value'>8 / 8x500</span> <span class='description'>Max data disks / throughput: IOPS</span> <br /></div>\", 'MaxCachedDiskPerfIOPSMbps': 'Read:  93 / Write:  46', 'MaxCachedDiskPerfIOPS': '6000 ', 'SizeName': 'Standard_D11', 'MaxNICExpectedBandwidth': '2 ', 'MaxTempStoragePerfIOPS': '6000 ', 'MaxUncachedDiskPerfIOPSMbps': None, 'MaxTempStoragePerfIOPSMbps': 'Read:  93 / Write:  46', 'vCPUs': 2, 'RegionName': 'Australia Southeast', 'SeriesName': \"<a href='https://docs.microsoft.com/en-us/azure/virtual-machines/windows/sizes-memory#d-series' target='_blank'>D</a>\", 'MemoryGB': '14', 'SizeCategory': 'Memory Optimized', 'Pricing_PAYG_W': '$0.323', 'CacheSizeGiB': None, 'MaxDataDiskCount': 8, 'NetworkBandwidthMbps': ' 1000', 'TempDiskSize': 100, 'AdditionalInfo': \"<div class='additionalinfo'></div\", 'Pricing_PAYG_L': '$0.210', 'GPU': None}\n",
      "Standard_D12 $0.420 {'MaxUncachedDiskPerfIOPS': None, 'DiskInfo': \"<div class='additionalinfo'><span class='value'>12000 / 187 / 93</span> <span class='description'>Max temp storage throughput: IOPS / Read MBps / Write MBps</span> <br /><span class='value'>16 / 16x500</span> <span class='description'>Max data disks / throughput: IOPS</span> <br /></div>\", 'MaxCachedDiskPerfIOPSMbps': 'Read:  187 / Write:  93', 'MaxCachedDiskPerfIOPS': '12000 ', 'SizeName': 'Standard_D12', 'MaxNICExpectedBandwidth': '4 ', 'MaxTempStoragePerfIOPS': '12000 ', 'MaxUncachedDiskPerfIOPSMbps': None, 'MaxTempStoragePerfIOPSMbps': 'Read:  187 / Write:  93', 'vCPUs': 4, 'RegionName': 'Australia Southeast', 'SeriesName': \"<a href='https://docs.microsoft.com/en-us/azure/virtual-machines/windows/sizes-memory#d-series' target='_blank'>D</a>\", 'MemoryGB': '28', 'SizeCategory': 'Memory Optimized', 'Pricing_PAYG_W': '$0.646', 'CacheSizeGiB': None, 'MaxDataDiskCount': 16, 'NetworkBandwidthMbps': ' 2000', 'TempDiskSize': 200, 'AdditionalInfo': \"<div class='additionalinfo'></div\", 'Pricing_PAYG_L': '$0.420', 'GPU': None}\n",
      "Standard_D13 $0.840 {'MaxUncachedDiskPerfIOPS': None, 'DiskInfo': \"<div class='additionalinfo'><span class='value'>24000 / 375 / 187</span> <span class='description'>Max temp storage throughput: IOPS / Read MBps / Write MBps</span> <br /><span class='value'>32 / 32x500</span> <span class='description'>Max data disks / throughput: IOPS</span> <br /></div>\", 'MaxCachedDiskPerfIOPSMbps': 'Read:  375 / Write:  187', 'MaxCachedDiskPerfIOPS': '24000 ', 'SizeName': 'Standard_D13', 'MaxNICExpectedBandwidth': '8 ', 'MaxTempStoragePerfIOPS': '24000 ', 'MaxUncachedDiskPerfIOPSMbps': None, 'MaxTempStoragePerfIOPSMbps': 'Read:  375 / Write:  187', 'vCPUs': 8, 'RegionName': 'Australia Southeast', 'SeriesName': \"<a href='https://docs.microsoft.com/en-us/azure/virtual-machines/windows/sizes-memory#d-series' target='_blank'>D</a>\", 'MemoryGB': '56', 'SizeCategory': 'Memory Optimized', 'Pricing_PAYG_W': '$1.292', 'CacheSizeGiB': None, 'MaxDataDiskCount': 32, 'NetworkBandwidthMbps': ' 4000', 'TempDiskSize': 400, 'AdditionalInfo': \"<div class='additionalinfo'></div\", 'Pricing_PAYG_L': '$0.840', 'GPU': None}\n",
      "Standard_D14 $1.680 {'MaxUncachedDiskPerfIOPS': None, 'DiskInfo': \"<div class='additionalinfo'><span class='value'>48000 / 750 / 375</span> <span class='description'>Max temp storage throughput: IOPS / Read MBps / Write MBps</span> <br /><span class='value'>64 / 64x500</span> <span class='description'>Max data disks / throughput: IOPS</span> <br /></div>\", 'MaxCachedDiskPerfIOPSMbps': 'Read:  750 / Write:  375', 'MaxCachedDiskPerfIOPS': '48000 ', 'SizeName': 'Standard_D14', 'MaxNICExpectedBandwidth': '8 ', 'MaxTempStoragePerfIOPS': '48000 ', 'MaxUncachedDiskPerfIOPSMbps': None, 'MaxTempStoragePerfIOPSMbps': 'Read:  750 / Write:  375', 'vCPUs': 16, 'RegionName': 'Australia Southeast', 'SeriesName': \"<a href='https://docs.microsoft.com/en-us/azure/virtual-machines/windows/sizes-memory#d-series' target='_blank'>D</a>\", 'MemoryGB': '112', 'SizeCategory': 'Memory Optimized', 'Pricing_PAYG_W': '$2.447', 'CacheSizeGiB': None, 'MaxDataDiskCount': 64, 'NetworkBandwidthMbps': ' 8000', 'TempDiskSize': 800, 'AdditionalInfo': \"<div class='additionalinfo'></div\", 'Pricing_PAYG_L': '$1.680', 'GPU': None}\n",
      "Standard_A1_v2 $0.050 {'MaxUncachedDiskPerfIOPS': None, 'DiskInfo': \"<div class='additionalinfo'><span class='value'>1000 / 20 / 10</span> <span class='description'>Max temp storage throughput: IOPS / Read MBps / Write MBps</span> <br /></div>\", 'MaxCachedDiskPerfIOPSMbps': 'Read:  20 / Write:  10', 'MaxCachedDiskPerfIOPS': '1000 ', 'SizeName': 'Standard_A1_v2', 'MaxNICExpectedBandwidth': '2 ', 'MaxTempStoragePerfIOPS': '1000 ', 'MaxUncachedDiskPerfIOPSMbps': None, 'MaxTempStoragePerfIOPSMbps': 'Read:  20 / Write:  10', 'vCPUs': 1, 'RegionName': 'Australia Southeast', 'SeriesName': \"<a href='https://docs.microsoft.com/en-us/azure/virtual-machines/windows/sizes-general#av2-series' target='_blank'>Av2</a>\", 'MemoryGB': '2', 'SizeCategory': 'General Purpose', 'Pricing_PAYG_W': '$0.076', 'CacheSizeGiB': None, 'MaxDataDiskCount': 2, 'NetworkBandwidthMbps': ' 250', 'TempDiskSize': 10, 'AdditionalInfo': \"<div class='additionalinfo'></div\", 'Pricing_PAYG_L': '$0.050', 'GPU': None}\n",
      "Standard_A2m_v2 $0.178 {'MaxUncachedDiskPerfIOPS': None, 'DiskInfo': \"<div class='additionalinfo'><span class='value'>2000 / 40 / 20</span> <span class='description'>Max temp storage throughput: IOPS / Read MBps / Write MBps</span> <br /></div>\", 'MaxCachedDiskPerfIOPSMbps': 'Read:  40 / Write:  20', 'MaxCachedDiskPerfIOPS': '2000 ', 'SizeName': 'Standard_A2m_v2', 'MaxNICExpectedBandwidth': '2 ', 'MaxTempStoragePerfIOPS': '2000 ', 'MaxUncachedDiskPerfIOPSMbps': None, 'MaxTempStoragePerfIOPSMbps': 'Read:  40 / Write:  20', 'vCPUs': 2, 'RegionName': 'Australia Southeast', 'SeriesName': \"<a href='https://docs.microsoft.com/en-us/azure/virtual-machines/windows/sizes-general#av2-series' target='_blank'>Av2</a>\", 'MemoryGB': '16', 'SizeCategory': 'General Purpose', 'Pricing_PAYG_W': '$0.270', 'CacheSizeGiB': None, 'MaxDataDiskCount': 4, 'NetworkBandwidthMbps': ' 500', 'TempDiskSize': 20, 'AdditionalInfo': \"<div class='additionalinfo'></div\", 'Pricing_PAYG_L': '$0.178', 'GPU': None}\n",
      "Standard_A2_v2 $0.106 {'MaxUncachedDiskPerfIOPS': None, 'DiskInfo': \"<div class='additionalinfo'><span class='value'>2000 / 40 / 20</span> <span class='description'>Max temp storage throughput: IOPS / Read MBps / Write MBps</span> <br /></div>\", 'MaxCachedDiskPerfIOPSMbps': 'Read:  40 / Write:  20', 'MaxCachedDiskPerfIOPS': '2000 ', 'SizeName': 'Standard_A2_v2', 'MaxNICExpectedBandwidth': '2 ', 'MaxTempStoragePerfIOPS': '2000 ', 'MaxUncachedDiskPerfIOPSMbps': None, 'MaxTempStoragePerfIOPSMbps': 'Read:  40 / Write:  20', 'vCPUs': 2, 'RegionName': 'Australia Southeast', 'SeriesName': \"<a href='https://docs.microsoft.com/en-us/azure/virtual-machines/windows/sizes-general#av2-series' target='_blank'>Av2</a>\", 'MemoryGB': '4', 'SizeCategory': 'General Purpose', 'Pricing_PAYG_W': '$0.159', 'CacheSizeGiB': None, 'MaxDataDiskCount': 4, 'NetworkBandwidthMbps': ' 500', 'TempDiskSize': 20, 'AdditionalInfo': \"<div class='additionalinfo'></div\", 'Pricing_PAYG_L': '$0.106', 'GPU': None}\n",
      "Standard_A4m_v2 $0.374 {'MaxUncachedDiskPerfIOPS': None, 'DiskInfo': \"<div class='additionalinfo'><span class='value'>4000 / 80 / 40</span> <span class='description'>Max temp storage throughput: IOPS / Read MBps / Write MBps</span> <br /></div>\", 'MaxCachedDiskPerfIOPSMbps': 'Read:  80 / Write:  40', 'MaxCachedDiskPerfIOPS': '4000 ', 'SizeName': 'Standard_A4m_v2', 'MaxNICExpectedBandwidth': '4 ', 'MaxTempStoragePerfIOPS': '4000 ', 'MaxUncachedDiskPerfIOPSMbps': None, 'MaxTempStoragePerfIOPSMbps': 'Read:  80 / Write:  40', 'vCPUs': 4, 'RegionName': 'Australia Southeast', 'SeriesName': \"<a href='https://docs.microsoft.com/en-us/azure/virtual-machines/windows/sizes-general#av2-series' target='_blank'>Av2</a>\", 'MemoryGB': '32', 'SizeCategory': 'General Purpose', 'Pricing_PAYG_W': '$0.567', 'CacheSizeGiB': None, 'MaxDataDiskCount': 8, 'NetworkBandwidthMbps': ' 1000', 'TempDiskSize': 40, 'AdditionalInfo': \"<div class='additionalinfo'></div\", 'Pricing_PAYG_L': '$0.374', 'GPU': None}\n",
      "Standard_A4_v2 $0.222 {'MaxUncachedDiskPerfIOPS': None, 'DiskInfo': \"<div class='additionalinfo'><span class='value'>4000 / 80 / 40</span> <span class='description'>Max temp storage throughput: IOPS / Read MBps / Write MBps</span> <br /></div>\", 'MaxCachedDiskPerfIOPSMbps': 'Read:  80 / Write:  40', 'MaxCachedDiskPerfIOPS': '4000 ', 'SizeName': 'Standard_A4_v2', 'MaxNICExpectedBandwidth': '4 ', 'MaxTempStoragePerfIOPS': '4000 ', 'MaxUncachedDiskPerfIOPSMbps': None, 'MaxTempStoragePerfIOPSMbps': 'Read:  80 / Write:  40', 'vCPUs': 4, 'RegionName': 'Australia Southeast', 'SeriesName': \"<a href='https://docs.microsoft.com/en-us/azure/virtual-machines/windows/sizes-general#av2-series' target='_blank'>Av2</a>\", 'MemoryGB': '8', 'SizeCategory': 'General Purpose', 'Pricing_PAYG_W': '$0.333', 'CacheSizeGiB': None, 'MaxDataDiskCount': 8, 'NetworkBandwidthMbps': ' 1000', 'TempDiskSize': 40, 'AdditionalInfo': \"<div class='additionalinfo'></div\", 'Pricing_PAYG_L': '$0.222', 'GPU': None}\n",
      "Standard_A8m_v2 $0.786 {'MaxUncachedDiskPerfIOPS': None, 'DiskInfo': \"<div class='additionalinfo'><span class='value'>8000 / 160 / 80</span> <span class='description'>Max temp storage throughput: IOPS / Read MBps / Write MBps</span> <br /></div>\", 'MaxCachedDiskPerfIOPSMbps': 'Read:  160 / Write:  80', 'MaxCachedDiskPerfIOPS': '8000 ', 'SizeName': 'Standard_A8m_v2', 'MaxNICExpectedBandwidth': '8 ', 'MaxTempStoragePerfIOPS': '8000 ', 'MaxUncachedDiskPerfIOPSMbps': None, 'MaxTempStoragePerfIOPSMbps': 'Read:  160 / Write:  80', 'vCPUs': 8, 'RegionName': 'Australia Southeast', 'SeriesName': \"<a href='https://docs.microsoft.com/en-us/azure/virtual-machines/windows/sizes-general#av2-series' target='_blank'>Av2</a>\", 'MemoryGB': '64', 'SizeCategory': 'General Purpose', 'Pricing_PAYG_W': '$1.191', 'CacheSizeGiB': None, 'MaxDataDiskCount': 16, 'NetworkBandwidthMbps': ' 2000', 'TempDiskSize': 80, 'AdditionalInfo': \"<div class='additionalinfo'></div\", 'Pricing_PAYG_L': '$0.786', 'GPU': None}\n",
      "Standard_A8_v2 $0.467 {'MaxUncachedDiskPerfIOPS': None, 'DiskInfo': \"<div class='additionalinfo'><span class='value'>8000 / 160 / 80</span> <span class='description'>Max temp storage throughput: IOPS / Read MBps / Write MBps</span> <br /></div>\", 'MaxCachedDiskPerfIOPSMbps': 'Read:  160 / Write:  80', 'MaxCachedDiskPerfIOPS': '8000 ', 'SizeName': 'Standard_A8_v2', 'MaxNICExpectedBandwidth': '8 ', 'MaxTempStoragePerfIOPS': '8000 ', 'MaxUncachedDiskPerfIOPSMbps': None, 'MaxTempStoragePerfIOPSMbps': 'Read:  160 / Write:  80', 'vCPUs': 8, 'RegionName': 'Australia Southeast', 'SeriesName': \"<a href='https://docs.microsoft.com/en-us/azure/virtual-machines/windows/sizes-general#av2-series' target='_blank'>Av2</a>\", 'MemoryGB': '16', 'SizeCategory': 'General Purpose', 'Pricing_PAYG_W': '$0.700', 'CacheSizeGiB': None, 'MaxDataDiskCount': 16, 'NetworkBandwidthMbps': ' 2000', 'TempDiskSize': 80, 'AdditionalInfo': \"<div class='additionalinfo'></div\", 'Pricing_PAYG_L': '$0.467', 'GPU': None}\n",
      "Standard_DS1 $0.093 {'MaxUncachedDiskPerfIOPS': '3200 ', 'DiskInfo': \"<div class='additionalinfo'><span class='value'>4000 / 32 (43)</span> <span class='description'>Max cached and temp storage throughput: IOPS / MBps (cache size in GiB)</span> <br /><span class='value'>3200 / 32</span> <span class='description'>Max uncached disk throughput: IOPS / MBps</span> <br /></div>\", 'MaxCachedDiskPerfIOPSMbps': ' 32 ', 'MaxCachedDiskPerfIOPS': '4000 ', 'SizeName': 'Standard_DS1', 'MaxNICExpectedBandwidth': '2 ', 'MaxTempStoragePerfIOPS': '4000 ', 'MaxUncachedDiskPerfIOPSMbps': ' 32', 'MaxTempStoragePerfIOPSMbps': ' 32 ', 'vCPUs': 1, 'RegionName': 'Australia Southeast', 'SeriesName': \"<a href='https://docs.microsoft.com/en-us/azure/virtual-machines/windows/sizes-general#ds-series' target='_blank'>DS</a>\", 'MemoryGB': '3.5', 'SizeCategory': 'General Purpose', 'Pricing_PAYG_W': '$0.156', 'CacheSizeGiB': '43', 'MaxDataDiskCount': 4, 'NetworkBandwidthMbps': ' 500', 'TempDiskSize': 7, 'AdditionalInfo': \"<div class='additionalinfo'></div\", 'Pricing_PAYG_L': '$0.093', 'GPU': None}\n",
      "Standard_DS2 $0.186 {'MaxUncachedDiskPerfIOPS': '6400 ', 'DiskInfo': \"<div class='additionalinfo'><span class='value'>8000 / 64 (86)</span> <span class='description'>Max cached and temp storage throughput: IOPS / MBps (cache size in GiB)</span> <br /><span class='value'>6400 / 64</span> <span class='description'>Max uncached disk throughput: IOPS / MBps</span> <br /></div>\", 'MaxCachedDiskPerfIOPSMbps': ' 64 ', 'MaxCachedDiskPerfIOPS': '8000 ', 'SizeName': 'Standard_DS2', 'MaxNICExpectedBandwidth': '2 ', 'MaxTempStoragePerfIOPS': '8000 ', 'MaxUncachedDiskPerfIOPSMbps': ' 64', 'MaxTempStoragePerfIOPSMbps': ' 64 ', 'vCPUs': 2, 'RegionName': 'Australia Southeast', 'SeriesName': \"<a href='https://docs.microsoft.com/en-us/azure/virtual-machines/windows/sizes-general#ds-series' target='_blank'>DS</a>\", 'MemoryGB': '7', 'SizeCategory': 'General Purpose', 'Pricing_PAYG_W': '$0.312', 'CacheSizeGiB': '86', 'MaxDataDiskCount': 8, 'NetworkBandwidthMbps': ' 1000', 'TempDiskSize': 14, 'AdditionalInfo': \"<div class='additionalinfo'></div\", 'Pricing_PAYG_L': '$0.186', 'GPU': None}\n",
      "Standard_DS3 $0.372 {'MaxUncachedDiskPerfIOPS': '12800 ', 'DiskInfo': \"<div class='additionalinfo'><span class='value'>16000 / 128 (172)</span> <span class='description'>Max cached and temp storage throughput: IOPS / MBps (cache size in GiB)</span> <br /><span class='value'>12800 / 128</span> <span class='description'>Max uncached disk throughput: IOPS / MBps</span> <br /></div>\", 'MaxCachedDiskPerfIOPSMbps': ' 128 ', 'MaxCachedDiskPerfIOPS': '16000 ', 'SizeName': 'Standard_DS3', 'MaxNICExpectedBandwidth': '4 ', 'MaxTempStoragePerfIOPS': '16000 ', 'MaxUncachedDiskPerfIOPSMbps': ' 128', 'MaxTempStoragePerfIOPSMbps': ' 128 ', 'vCPUs': 4, 'RegionName': 'Australia Southeast', 'SeriesName': \"<a href='https://docs.microsoft.com/en-us/azure/virtual-machines/windows/sizes-general#ds-series' target='_blank'>DS</a>\", 'MemoryGB': '14', 'SizeCategory': 'General Purpose', 'Pricing_PAYG_W': '$0.624', 'CacheSizeGiB': '172', 'MaxDataDiskCount': 16, 'NetworkBandwidthMbps': ' 2000', 'TempDiskSize': 28, 'AdditionalInfo': \"<div class='additionalinfo'></div\", 'Pricing_PAYG_L': '$0.372', 'GPU': None}\n",
      "Standard_DS4 $0.744 {'MaxUncachedDiskPerfIOPS': '25600 ', 'DiskInfo': \"<div class='additionalinfo'><span class='value'>32000 / 256 (344)</span> <span class='description'>Max cached and temp storage throughput: IOPS / MBps (cache size in GiB)</span> <br /><span class='value'>25600 / 256</span> <span class='description'>Max uncached disk throughput: IOPS / MBps</span> <br /></div>\", 'MaxCachedDiskPerfIOPSMbps': ' 256 ', 'MaxCachedDiskPerfIOPS': '32000 ', 'SizeName': 'Standard_DS4', 'MaxNICExpectedBandwidth': '8 ', 'MaxTempStoragePerfIOPS': '32000 ', 'MaxUncachedDiskPerfIOPSMbps': ' 256', 'MaxTempStoragePerfIOPSMbps': ' 256 ', 'vCPUs': 8, 'RegionName': 'Australia Southeast', 'SeriesName': \"<a href='https://docs.microsoft.com/en-us/azure/virtual-machines/windows/sizes-general#ds-series' target='_blank'>DS</a>\", 'MemoryGB': '28', 'SizeCategory': 'General Purpose', 'Pricing_PAYG_W': '$1.248', 'CacheSizeGiB': '344', 'MaxDataDiskCount': 32, 'NetworkBandwidthMbps': ' 4000', 'TempDiskSize': 56, 'AdditionalInfo': \"<div class='additionalinfo'></div\", 'Pricing_PAYG_L': '$0.744', 'GPU': None}\n",
      "Standard_DS11 $0.210 {'MaxUncachedDiskPerfIOPS': '6400 ', 'DiskInfo': \"<div class='additionalinfo'><span class='value'>8000 / 64 (72)</span> <span class='description'>Max cached and temp storage throughput: IOPS / MBps (cache size in GiB)</span> <br /><span class='value'>6400 / 64</span> <span class='description'>Max uncached disk throughput: IOPS / MBps</span> <br /></div>\", 'MaxCachedDiskPerfIOPSMbps': ' 64 ', 'MaxCachedDiskPerfIOPS': '8000 ', 'SizeName': 'Standard_DS11', 'MaxNICExpectedBandwidth': '2 ', 'MaxTempStoragePerfIOPS': '8000 ', 'MaxUncachedDiskPerfIOPSMbps': ' 64', 'MaxTempStoragePerfIOPSMbps': ' 64 ', 'vCPUs': 2, 'RegionName': 'Australia Southeast', 'SeriesName': \"<a href='https://docs.microsoft.com/en-us/azure/virtual-machines/windows/sizes-memory#ds-series' target='_blank'>DS</a>\", 'MemoryGB': '14', 'SizeCategory': 'Memory Optimized', 'Pricing_PAYG_W': '$0.323', 'CacheSizeGiB': '72', 'MaxDataDiskCount': 8, 'NetworkBandwidthMbps': ' 1000', 'TempDiskSize': 28, 'AdditionalInfo': \"<div class='additionalinfo'></div\", 'Pricing_PAYG_L': '$0.210', 'GPU': None}\n",
      "Standard_DS12 $0.420 {'MaxUncachedDiskPerfIOPS': '12800 ', 'DiskInfo': \"<div class='additionalinfo'><span class='value'>16000 / 128 (144)</span> <span class='description'>Max cached and temp storage throughput: IOPS / MBps (cache size in GiB)</span> <br /><span class='value'>12800 / 128</span> <span class='description'>Max uncached disk throughput: IOPS / MBps</span> <br /></div>\", 'MaxCachedDiskPerfIOPSMbps': ' 128 ', 'MaxCachedDiskPerfIOPS': '16000 ', 'SizeName': 'Standard_DS12', 'MaxNICExpectedBandwidth': '4 ', 'MaxTempStoragePerfIOPS': '16000 ', 'MaxUncachedDiskPerfIOPSMbps': ' 128', 'MaxTempStoragePerfIOPSMbps': ' 128 ', 'vCPUs': 4, 'RegionName': 'Australia Southeast', 'SeriesName': \"<a href='https://docs.microsoft.com/en-us/azure/virtual-machines/windows/sizes-memory#ds-series' target='_blank'>DS</a>\", 'MemoryGB': '28', 'SizeCategory': 'Memory Optimized', 'Pricing_PAYG_W': '$0.646', 'CacheSizeGiB': '144', 'MaxDataDiskCount': 16, 'NetworkBandwidthMbps': ' 2000', 'TempDiskSize': 56, 'AdditionalInfo': \"<div class='additionalinfo'></div\", 'Pricing_PAYG_L': '$0.420', 'GPU': None}\n",
      "Standard_DS13 $0.840 {'MaxUncachedDiskPerfIOPS': '25600 ', 'DiskInfo': \"<div class='additionalinfo'><span class='value'>32000 / 256 (288)</span> <span class='description'>Max cached and temp storage throughput: IOPS / MBps (cache size in GiB)</span> <br /><span class='value'>25600 / 256</span> <span class='description'>Max uncached disk throughput: IOPS / MBps</span> <br /></div>\", 'MaxCachedDiskPerfIOPSMbps': ' 256 ', 'MaxCachedDiskPerfIOPS': '32000 ', 'SizeName': 'Standard_DS13', 'MaxNICExpectedBandwidth': '8 ', 'MaxTempStoragePerfIOPS': '32000 ', 'MaxUncachedDiskPerfIOPSMbps': ' 256', 'MaxTempStoragePerfIOPSMbps': ' 256 ', 'vCPUs': 8, 'RegionName': 'Australia Southeast', 'SeriesName': \"<a href='https://docs.microsoft.com/en-us/azure/virtual-machines/windows/sizes-memory#ds-series' target='_blank'>DS</a>\", 'MemoryGB': '56', 'SizeCategory': 'Memory Optimized', 'Pricing_PAYG_W': '$1.292', 'CacheSizeGiB': '288', 'MaxDataDiskCount': 32, 'NetworkBandwidthMbps': ' 4000', 'TempDiskSize': 112, 'AdditionalInfo': \"<div class='additionalinfo'></div\", 'Pricing_PAYG_L': '$0.840', 'GPU': None}\n",
      "Standard_DS14 $1.680 {'MaxUncachedDiskPerfIOPS': '51200 ', 'DiskInfo': \"<div class='additionalinfo'><span class='value'>64000 / 512 (576)</span> <span class='description'>Max cached and temp storage throughput: IOPS / MBps (cache size in GiB)</span> <br /><span class='value'>51200 / 512</span> <span class='description'>Max uncached disk throughput: IOPS / MBps</span> <br /></div>\", 'MaxCachedDiskPerfIOPSMbps': ' 512 ', 'MaxCachedDiskPerfIOPS': '64000 ', 'SizeName': 'Standard_DS14', 'MaxNICExpectedBandwidth': '8 ', 'MaxTempStoragePerfIOPS': '64000 ', 'MaxUncachedDiskPerfIOPSMbps': ' 512', 'MaxTempStoragePerfIOPSMbps': ' 512 ', 'vCPUs': 16, 'RegionName': 'Australia Southeast', 'SeriesName': \"<a href='https://docs.microsoft.com/en-us/azure/virtual-machines/windows/sizes-memory#ds-series' target='_blank'>DS</a>\", 'MemoryGB': '112', 'SizeCategory': 'Memory Optimized', 'Pricing_PAYG_W': '$2.447', 'CacheSizeGiB': '576', 'MaxDataDiskCount': 64, 'NetworkBandwidthMbps': ' 8000', 'TempDiskSize': 224, 'AdditionalInfo': \"<div class='additionalinfo'></div\", 'Pricing_PAYG_L': '$1.680', 'GPU': None}\n",
      "Standard_D1_v2 $0.082 {'MaxUncachedDiskPerfIOPS': None, 'DiskInfo': \"<div class='additionalinfo'><span class='value'>3000 / 46 / 23</span> <span class='description'>Max temp storage throughput: IOPS / Read MBps / Write MBps</span> <br /><span class='value'>4</span> <span class='description'>Max data disks</span> <br /></div>\", 'MaxCachedDiskPerfIOPSMbps': 'Read:  46 / Write:  23', 'MaxCachedDiskPerfIOPS': '3000 ', 'SizeName': 'Standard_D1_v2', 'MaxNICExpectedBandwidth': '', 'MaxTempStoragePerfIOPS': '3000 ', 'MaxUncachedDiskPerfIOPSMbps': None, 'MaxTempStoragePerfIOPSMbps': 'Read:  46 / Write:  23', 'vCPUs': 1, 'RegionName': 'Australia Southeast', 'SeriesName': \"<a href='https://docs.microsoft.com/en-us/azure/virtual-machines/windows/sizes-general#dv2-series' target='_blank'>D v2</a>\", 'MemoryGB': '3.5', 'SizeCategory': 'General Purpose', 'Pricing_PAYG_W': '$0.147', 'CacheSizeGiB': None, 'MaxDataDiskCount': 4, 'NetworkBandwidthMbps': '4x500', 'TempDiskSize': 50, 'AdditionalInfo': \"<div class='additionalinfo'></div\", 'Pricing_PAYG_L': '$0.082', 'GPU': None}\n",
      "Standard_D2_v2 $0.156 {'MaxUncachedDiskPerfIOPS': None, 'DiskInfo': \"<div class='additionalinfo'><span class='value'>6000 / 93 / 46</span> <span class='description'>Max temp storage throughput: IOPS / Read MBps / Write MBps</span> <br /><span class='value'>8</span> <span class='description'>Max data disks</span> <br /></div>\", 'MaxCachedDiskPerfIOPSMbps': 'Read:  93 / Write:  46', 'MaxCachedDiskPerfIOPS': '6000 ', 'SizeName': 'Standard_D2_v2', 'MaxNICExpectedBandwidth': '', 'MaxTempStoragePerfIOPS': '6000 ', 'MaxUncachedDiskPerfIOPSMbps': None, 'MaxTempStoragePerfIOPSMbps': 'Read:  93 / Write:  46', 'vCPUs': 2, 'RegionName': 'Australia Southeast', 'SeriesName': \"<a href='https://docs.microsoft.com/en-us/azure/virtual-machines/windows/sizes-general#dv2-series' target='_blank'>D v2</a>\", 'MemoryGB': '7', 'SizeCategory': 'General Purpose', 'Pricing_PAYG_W': '$0.294', 'CacheSizeGiB': None, 'MaxDataDiskCount': 8, 'NetworkBandwidthMbps': '8x500', 'TempDiskSize': 100, 'AdditionalInfo': \"<div class='additionalinfo'></div\", 'Pricing_PAYG_L': '$0.156', 'GPU': None}\n",
      "Standard_D3_v2 $0.312 {'MaxUncachedDiskPerfIOPS': None, 'DiskInfo': \"<div class='additionalinfo'><span class='value'>12000 / 187 / 93</span> <span class='description'>Max temp storage throughput: IOPS / Read MBps / Write MBps</span> <br /><span class='value'>16</span> <span class='description'>Max data disks</span> <br /></div>\", 'MaxCachedDiskPerfIOPSMbps': 'Read:  187 / Write:  93', 'MaxCachedDiskPerfIOPS': '12000 ', 'SizeName': 'Standard_D3_v2', 'MaxNICExpectedBandwidth': '', 'MaxTempStoragePerfIOPS': '12000 ', 'MaxUncachedDiskPerfIOPSMbps': None, 'MaxTempStoragePerfIOPSMbps': 'Read:  187 / Write:  93', 'vCPUs': 4, 'RegionName': 'Australia Southeast', 'SeriesName': \"<a href='https://docs.microsoft.com/en-us/azure/virtual-machines/windows/sizes-general#dv2-series' target='_blank'>D v2</a>\", 'MemoryGB': '14', 'SizeCategory': 'General Purpose', 'Pricing_PAYG_W': '$0.588', 'CacheSizeGiB': None, 'MaxDataDiskCount': 16, 'NetworkBandwidthMbps': '16x500', 'TempDiskSize': 200, 'AdditionalInfo': \"<div class='additionalinfo'></div\", 'Pricing_PAYG_L': '$0.312', 'GPU': None}\n",
      "Standard_D4_v2 $0.623 {'MaxUncachedDiskPerfIOPS': None, 'DiskInfo': \"<div class='additionalinfo'><span class='value'>24000 / 375 / 187</span> <span class='description'>Max temp storage throughput: IOPS / Read MBps / Write MBps</span> <br /><span class='value'>32</span> <span class='description'>Max data disks</span> <br /></div>\", 'MaxCachedDiskPerfIOPSMbps': 'Read:  375 / Write:  187', 'MaxCachedDiskPerfIOPS': '24000 ', 'SizeName': 'Standard_D4_v2', 'MaxNICExpectedBandwidth': '', 'MaxTempStoragePerfIOPS': '24000 ', 'MaxUncachedDiskPerfIOPSMbps': None, 'MaxTempStoragePerfIOPSMbps': 'Read:  375 / Write:  187', 'vCPUs': 8, 'RegionName': 'Australia Southeast', 'SeriesName': \"<a href='https://docs.microsoft.com/en-us/azure/virtual-machines/windows/sizes-general#dv2-series' target='_blank'>D v2</a>\", 'MemoryGB': '28', 'SizeCategory': 'General Purpose', 'Pricing_PAYG_W': '$1.177', 'CacheSizeGiB': None, 'MaxDataDiskCount': 32, 'NetworkBandwidthMbps': '32x500', 'TempDiskSize': 400, 'AdditionalInfo': \"<div class='additionalinfo'></div\", 'Pricing_PAYG_L': '$0.623', 'GPU': None}\n",
      "Standard_D5_v2 $1.246 {'MaxUncachedDiskPerfIOPS': None, 'DiskInfo': \"<div class='additionalinfo'><span class='value'>48000 / 750 / 375</span> <span class='description'>Max temp storage throughput: IOPS / Read MBps / Write MBps</span> <br /><span class='value'>64</span> <span class='description'>Max data disks</span> <br /></div>\", 'MaxCachedDiskPerfIOPSMbps': 'Read:  750 / Write:  375', 'MaxCachedDiskPerfIOPS': '48000 ', 'SizeName': 'Standard_D5_v2', 'MaxNICExpectedBandwidth': '', 'MaxTempStoragePerfIOPS': '48000 ', 'MaxUncachedDiskPerfIOPSMbps': None, 'MaxTempStoragePerfIOPSMbps': 'Read:  750 / Write:  375', 'vCPUs': 16, 'RegionName': 'Australia Southeast', 'SeriesName': \"<a href='https://docs.microsoft.com/en-us/azure/virtual-machines/windows/sizes-general#dv2-series' target='_blank'>D v2</a>\", 'MemoryGB': '56', 'SizeCategory': 'General Purpose', 'Pricing_PAYG_W': '$2.246', 'CacheSizeGiB': None, 'MaxDataDiskCount': 64, 'NetworkBandwidthMbps': '64x500', 'TempDiskSize': 800, 'AdditionalInfo': \"<div class='additionalinfo'></div\", 'Pricing_PAYG_L': '$1.246', 'GPU': None}\n",
      "Standard_D11_v2 $0.200 {'MaxUncachedDiskPerfIOPS': None, 'DiskInfo': \"<div class='additionalinfo'><span class='value'>6000 / 93 / 46</span> <span class='description'>Max temp storage throughput: IOPS / Read MBps / Write MBps</span> <br /><span class='value'>8 / 8x500</span> <span class='description'>Max data disks / throughput: IOPS</span> <br /></div>\", 'MaxCachedDiskPerfIOPSMbps': 'Read:  93 / Write:  46', 'MaxCachedDiskPerfIOPS': '6000 ', 'SizeName': 'Standard_D11_v2', 'MaxNICExpectedBandwidth': '2 ', 'MaxTempStoragePerfIOPS': '6000 ', 'MaxUncachedDiskPerfIOPSMbps': None, 'MaxTempStoragePerfIOPSMbps': 'Read:  93 / Write:  46', 'vCPUs': 2, 'RegionName': 'Australia Southeast', 'SeriesName': \"<a href='https://docs.microsoft.com/en-us/azure/virtual-machines/windows/sizes-memory#dv2-series' target='_blank'>D v2</a>\", 'MemoryGB': '14', 'SizeCategory': 'Memory Optimized', 'Pricing_PAYG_W': '$0.313', 'CacheSizeGiB': None, 'MaxDataDiskCount': 8, 'NetworkBandwidthMbps': ' 1500', 'TempDiskSize': 100, 'AdditionalInfo': \"<div class='additionalinfo'></div\", 'Pricing_PAYG_L': '$0.200', 'GPU': None}\n",
      "Standard_D12_v2 $0.399 {'MaxUncachedDiskPerfIOPS': None, 'DiskInfo': \"<div class='additionalinfo'><span class='value'>12000 / 187 / 93</span> <span class='description'>Max temp storage throughput: IOPS / Read MBps / Write MBps</span> <br /><span class='value'>16 / 16x500</span> <span class='description'>Max data disks / throughput: IOPS</span> <br /></div>\", 'MaxCachedDiskPerfIOPSMbps': 'Read:  187 / Write:  93', 'MaxCachedDiskPerfIOPS': '12000 ', 'SizeName': 'Standard_D12_v2', 'MaxNICExpectedBandwidth': '4 ', 'MaxTempStoragePerfIOPS': '12000 ', 'MaxUncachedDiskPerfIOPSMbps': None, 'MaxTempStoragePerfIOPSMbps': 'Read:  187 / Write:  93', 'vCPUs': 4, 'RegionName': 'Australia Southeast', 'SeriesName': \"<a href='https://docs.microsoft.com/en-us/azure/virtual-machines/windows/sizes-memory#dv2-series' target='_blank'>D v2</a>\", 'MemoryGB': '28', 'SizeCategory': 'Memory Optimized', 'Pricing_PAYG_W': '$0.625', 'CacheSizeGiB': None, 'MaxDataDiskCount': 16, 'NetworkBandwidthMbps': ' 3000', 'TempDiskSize': 200, 'AdditionalInfo': \"<div class='additionalinfo'></div\", 'Pricing_PAYG_L': '$0.399', 'GPU': None}\n",
      "Standard_D13_v2 $0.798 {'MaxUncachedDiskPerfIOPS': None, 'DiskInfo': \"<div class='additionalinfo'><span class='value'>24000 / 375 / 187</span> <span class='description'>Max temp storage throughput: IOPS / Read MBps / Write MBps</span> <br /><span class='value'>32 / 32x500</span> <span class='description'>Max data disks / throughput: IOPS</span> <br /></div>\", 'MaxCachedDiskPerfIOPSMbps': 'Read:  375 / Write:  187', 'MaxCachedDiskPerfIOPS': '24000 ', 'SizeName': 'Standard_D13_v2', 'MaxNICExpectedBandwidth': '8 ', 'MaxTempStoragePerfIOPS': '24000 ', 'MaxUncachedDiskPerfIOPSMbps': None, 'MaxTempStoragePerfIOPSMbps': 'Read:  375 / Write:  187', 'vCPUs': 8, 'RegionName': 'Australia Southeast', 'SeriesName': \"<a href='https://docs.microsoft.com/en-us/azure/virtual-machines/windows/sizes-memory#dv2-series' target='_blank'>D v2</a>\", 'MemoryGB': '56', 'SizeCategory': 'Memory Optimized', 'Pricing_PAYG_W': '$1.250', 'CacheSizeGiB': None, 'MaxDataDiskCount': 32, 'NetworkBandwidthMbps': ' 6000', 'TempDiskSize': 400, 'AdditionalInfo': \"<div class='additionalinfo'></div\", 'Pricing_PAYG_L': '$0.798', 'GPU': None}\n",
      "Standard_D14_v2 $1.596 {'MaxUncachedDiskPerfIOPS': None, 'DiskInfo': \"<div class='additionalinfo'><span class='value'>48000 / 750 / 375</span> <span class='description'>Max temp storage throughput: IOPS / Read MBps / Write MBps</span> <br /><span class='value'>64 / 64x500</span> <span class='description'>Max data disks / throughput: IOPS</span> <br /></div>\", 'MaxCachedDiskPerfIOPSMbps': 'Read:  750 / Write:  375', 'MaxCachedDiskPerfIOPS': '48000 ', 'SizeName': 'Standard_D14_v2', 'MaxNICExpectedBandwidth': '8 ', 'MaxTempStoragePerfIOPS': '48000 ', 'MaxUncachedDiskPerfIOPSMbps': None, 'MaxTempStoragePerfIOPSMbps': 'Read:  750 / Write:  375', 'vCPUs': 16, 'RegionName': 'Australia Southeast', 'SeriesName': \"<a href='https://docs.microsoft.com/en-us/azure/virtual-machines/windows/sizes-memory#dv2-series' target='_blank'>D v2</a>\", 'MemoryGB': '112', 'SizeCategory': 'Memory Optimized', 'Pricing_PAYG_W': '$2.363', 'CacheSizeGiB': None, 'MaxDataDiskCount': 64, 'NetworkBandwidthMbps': ' 12000', 'TempDiskSize': 800, 'AdditionalInfo': \"<div class='additionalinfo'></div\", 'Pricing_PAYG_L': '$1.596', 'GPU': None}\n",
      "Standard_D15_v2 $1.995 {'MaxUncachedDiskPerfIOPS': None, 'DiskInfo': \"<div class='additionalinfo'><span class='value'>60000 / 937 / 468</span> <span class='description'>Max temp storage throughput: IOPS / Read MBps / Write MBps</span> <br /><span class='value'>64 / 64x500</span> <span class='description'>Max data disks / throughput: IOPS</span> <br /></div>\", 'MaxCachedDiskPerfIOPSMbps': 'Read:  937 / Write:  468', 'MaxCachedDiskPerfIOPS': '60000 ', 'SizeName': 'Standard_D15_v2', 'MaxNICExpectedBandwidth': '8 ', 'MaxTempStoragePerfIOPS': '60000 ', 'MaxUncachedDiskPerfIOPSMbps': None, 'MaxTempStoragePerfIOPSMbps': 'Read:  937 / Write:  468', 'vCPUs': 20, 'RegionName': 'Australia Southeast', 'SeriesName': \"<a href='https://docs.microsoft.com/en-us/azure/virtual-machines/windows/sizes-memory#dv2-series' target='_blank'>D v2</a>\", 'MemoryGB': '140', 'SizeCategory': 'Memory Optimized', 'Pricing_PAYG_W': '$2.954', 'CacheSizeGiB': None, 'MaxDataDiskCount': 64, 'NetworkBandwidthMbps': ' 25000 2', 'TempDiskSize': 280, 'AdditionalInfo': \"<div class='additionalinfo'></div\", 'Pricing_PAYG_L': '$1.995', 'GPU': None}\n",
      "Standard_F1 $0.065 {'MaxUncachedDiskPerfIOPS': None, 'DiskInfo': \"<div class='additionalinfo'><span class='value'>3000 / 46 / 23</span> <span class='description'>Max temp storage throughput: IOPS / Read MBps / Write MBps</span> <br /><span class='value'>4 / 4x500</span> <span class='description'>Max data disks / throughput: IOPS</span> <br /></div>\", 'MaxCachedDiskPerfIOPSMbps': 'Read:  46 / Write:  23', 'MaxCachedDiskPerfIOPS': '3000 ', 'SizeName': 'Standard_F1', 'MaxNICExpectedBandwidth': '2 ', 'MaxTempStoragePerfIOPS': '3000 ', 'MaxUncachedDiskPerfIOPSMbps': None, 'MaxTempStoragePerfIOPSMbps': 'Read:  46 / Write:  23', 'vCPUs': 1, 'RegionName': 'Australia Southeast', 'SeriesName': \"<a href='https://docs.microsoft.com/en-us/azure/virtual-machines/windows/sizes-compute#f-series' target='_blank'>F</a>\", 'MemoryGB': '2', 'SizeCategory': 'Compute Optimized', 'Pricing_PAYG_W': '$0.111', 'CacheSizeGiB': None, 'MaxDataDiskCount': 4, 'NetworkBandwidthMbps': ' 750', 'TempDiskSize': 16, 'AdditionalInfo': \"<div class='additionalinfo'></div\", 'Pricing_PAYG_L': '$0.065', 'GPU': None}\n",
      "Standard_F2 $0.130 {'MaxUncachedDiskPerfIOPS': None, 'DiskInfo': \"<div class='additionalinfo'><span class='value'>6000 / 93 / 46</span> <span class='description'>Max temp storage throughput: IOPS / Read MBps / Write MBps</span> <br /><span class='value'>8 / 8x500</span> <span class='description'>Max data disks / throughput: IOPS</span> <br /></div>\", 'MaxCachedDiskPerfIOPSMbps': 'Read:  93 / Write:  46', 'MaxCachedDiskPerfIOPS': '6000 ', 'SizeName': 'Standard_F2', 'MaxNICExpectedBandwidth': '2 ', 'MaxTempStoragePerfIOPS': '6000 ', 'MaxUncachedDiskPerfIOPSMbps': None, 'MaxTempStoragePerfIOPSMbps': 'Read:  93 / Write:  46', 'vCPUs': 2, 'RegionName': 'Australia Southeast', 'SeriesName': \"<a href='https://docs.microsoft.com/en-us/azure/virtual-machines/windows/sizes-compute#f-series' target='_blank'>F</a>\", 'MemoryGB': '4', 'SizeCategory': 'Compute Optimized', 'Pricing_PAYG_W': '$0.222', 'CacheSizeGiB': None, 'MaxDataDiskCount': 8, 'NetworkBandwidthMbps': ' 1500', 'TempDiskSize': 32, 'AdditionalInfo': \"<div class='additionalinfo'></div\", 'Pricing_PAYG_L': '$0.130', 'GPU': None}\n",
      "Standard_F4 $0.261 {'MaxUncachedDiskPerfIOPS': None, 'DiskInfo': \"<div class='additionalinfo'><span class='value'>12000 / 187 / 93</span> <span class='description'>Max temp storage throughput: IOPS / Read MBps / Write MBps</span> <br /><span class='value'>16 / 16x500</span> <span class='description'>Max data disks / throughput: IOPS</span> <br /></div>\", 'MaxCachedDiskPerfIOPSMbps': 'Read:  187 / Write:  93', 'MaxCachedDiskPerfIOPS': '12000 ', 'SizeName': 'Standard_F4', 'MaxNICExpectedBandwidth': '4 ', 'MaxTempStoragePerfIOPS': '12000 ', 'MaxUncachedDiskPerfIOPSMbps': None, 'MaxTempStoragePerfIOPSMbps': 'Read:  187 / Write:  93', 'vCPUs': 4, 'RegionName': 'Australia Southeast', 'SeriesName': \"<a href='https://docs.microsoft.com/en-us/azure/virtual-machines/windows/sizes-compute#f-series' target='_blank'>F</a>\", 'MemoryGB': '8', 'SizeCategory': 'Compute Optimized', 'Pricing_PAYG_W': '$0.445', 'CacheSizeGiB': None, 'MaxDataDiskCount': 16, 'NetworkBandwidthMbps': ' 3000', 'TempDiskSize': 64, 'AdditionalInfo': \"<div class='additionalinfo'></div\", 'Pricing_PAYG_L': '$0.261', 'GPU': None}\n",
      "Standard_F8 $0.522 {'MaxUncachedDiskPerfIOPS': None, 'DiskInfo': \"<div class='additionalinfo'><span class='value'>24000 / 375 / 187</span> <span class='description'>Max temp storage throughput: IOPS / Read MBps / Write MBps</span> <br /><span class='value'>32 / 32x500</span> <span class='description'>Max data disks / throughput: IOPS</span> <br /></div>\", 'MaxCachedDiskPerfIOPSMbps': 'Read:  375 / Write:  187', 'MaxCachedDiskPerfIOPS': '24000 ', 'SizeName': 'Standard_F8', 'MaxNICExpectedBandwidth': '8 ', 'MaxTempStoragePerfIOPS': '24000 ', 'MaxUncachedDiskPerfIOPSMbps': None, 'MaxTempStoragePerfIOPSMbps': 'Read:  375 / Write:  187', 'vCPUs': 8, 'RegionName': 'Australia Southeast', 'SeriesName': \"<a href='https://docs.microsoft.com/en-us/azure/virtual-machines/windows/sizes-compute#f-series' target='_blank'>F</a>\", 'MemoryGB': '16', 'SizeCategory': 'Compute Optimized', 'Pricing_PAYG_W': '$0.890', 'CacheSizeGiB': None, 'MaxDataDiskCount': 32, 'NetworkBandwidthMbps': ' 6000', 'TempDiskSize': 128, 'AdditionalInfo': \"<div class='additionalinfo'></div\", 'Pricing_PAYG_L': '$0.522', 'GPU': None}\n",
      "Standard_F16 $1.042 {'MaxUncachedDiskPerfIOPS': None, 'DiskInfo': \"<div class='additionalinfo'><span class='value'>48000 / 750 / 375</span> <span class='description'>Max temp storage throughput: IOPS / Read MBps / Write MBps</span> <br /><span class='value'>64 / 64x500</span> <span class='description'>Max data disks / throughput: IOPS</span> <br /></div>\", 'MaxCachedDiskPerfIOPSMbps': 'Read:  750 / Write:  375', 'MaxCachedDiskPerfIOPS': '48000 ', 'SizeName': 'Standard_F16', 'MaxNICExpectedBandwidth': '8 ', 'MaxTempStoragePerfIOPS': '48000 ', 'MaxUncachedDiskPerfIOPSMbps': None, 'MaxTempStoragePerfIOPSMbps': 'Read:  750 / Write:  375', 'vCPUs': 16, 'RegionName': 'Australia Southeast', 'SeriesName': \"<a href='https://docs.microsoft.com/en-us/azure/virtual-machines/windows/sizes-compute#f-series' target='_blank'>F</a>\", 'MemoryGB': '32', 'SizeCategory': 'Compute Optimized', 'Pricing_PAYG_W': '$1.778', 'CacheSizeGiB': None, 'MaxDataDiskCount': 64, 'NetworkBandwidthMbps': ' 12000', 'TempDiskSize': 256, 'AdditionalInfo': \"<div class='additionalinfo'></div\", 'Pricing_PAYG_L': '$1.042', 'GPU': None}\n",
      "Standard_DS1_v2 $0.082 {'MaxUncachedDiskPerfIOPS': '3200 ', 'DiskInfo': \"<div class='additionalinfo'><span class='value'>4000 / 32 (43)</span> <span class='description'>Max cached and temp storage throughput: IOPS / MBps (cache size in GiB)</span> <br /><span class='value'>3200 / 48</span> <span class='description'>Max uncached disk throughput: IOPS / MBps</span> <br /></div>\", 'MaxCachedDiskPerfIOPSMbps': ' 32 ', 'MaxCachedDiskPerfIOPS': '4000 ', 'SizeName': 'Standard_DS1_v2', 'MaxNICExpectedBandwidth': '2 ', 'MaxTempStoragePerfIOPS': '4000 ', 'MaxUncachedDiskPerfIOPSMbps': ' 48', 'MaxTempStoragePerfIOPSMbps': ' 32 ', 'vCPUs': 1, 'RegionName': 'Australia Southeast', 'SeriesName': \"<a href='https://docs.microsoft.com/en-us/azure/virtual-machines/windows/sizes-general#dsv2-series' target='_blank'>DS v2</a>\", 'MemoryGB': '3.5', 'SizeCategory': 'General Purpose', 'Pricing_PAYG_W': '$0.147', 'CacheSizeGiB': '43', 'MaxDataDiskCount': 4, 'NetworkBandwidthMbps': ' 750', 'TempDiskSize': 7, 'AdditionalInfo': \"<div class='additionalinfo'></div\", 'Pricing_PAYG_L': '$0.082', 'GPU': None}\n",
      "Standard_DS2_v2 $0.156 {'MaxUncachedDiskPerfIOPS': '6400 ', 'DiskInfo': \"<div class='additionalinfo'><span class='value'>8000 / 64 (86)</span> <span class='description'>Max cached and temp storage throughput: IOPS / MBps (cache size in GiB)</span> <br /><span class='value'>6400 / 96</span> <span class='description'>Max uncached disk throughput: IOPS / MBps</span> <br /></div>\", 'MaxCachedDiskPerfIOPSMbps': ' 64 ', 'MaxCachedDiskPerfIOPS': '8000 ', 'SizeName': 'Standard_DS2_v2', 'MaxNICExpectedBandwidth': '2 ', 'MaxTempStoragePerfIOPS': '8000 ', 'MaxUncachedDiskPerfIOPSMbps': ' 96', 'MaxTempStoragePerfIOPSMbps': ' 64 ', 'vCPUs': 2, 'RegionName': 'Australia Southeast', 'SeriesName': \"<a href='https://docs.microsoft.com/en-us/azure/virtual-machines/windows/sizes-general#dsv2-series' target='_blank'>DS v2</a>\", 'MemoryGB': '7', 'SizeCategory': 'General Purpose', 'Pricing_PAYG_W': '$0.294', 'CacheSizeGiB': '86', 'MaxDataDiskCount': 8, 'NetworkBandwidthMbps': ' 1500', 'TempDiskSize': 14, 'AdditionalInfo': \"<div class='additionalinfo'></div\", 'Pricing_PAYG_L': '$0.156', 'GPU': None}\n",
      "Standard_DS3_v2 $0.312 {'MaxUncachedDiskPerfIOPS': '12800 ', 'DiskInfo': \"<div class='additionalinfo'><span class='value'>16000 / 128 (172)</span> <span class='description'>Max cached and temp storage throughput: IOPS / MBps (cache size in GiB)</span> <br /><span class='value'>12800 / 192</span> <span class='description'>Max uncached disk throughput: IOPS / MBps</span> <br /></div>\", 'MaxCachedDiskPerfIOPSMbps': ' 128 ', 'MaxCachedDiskPerfIOPS': '16000 ', 'SizeName': 'Standard_DS3_v2', 'MaxNICExpectedBandwidth': '4 ', 'MaxTempStoragePerfIOPS': '16000 ', 'MaxUncachedDiskPerfIOPSMbps': ' 192', 'MaxTempStoragePerfIOPSMbps': ' 128 ', 'vCPUs': 4, 'RegionName': 'Australia Southeast', 'SeriesName': \"<a href='https://docs.microsoft.com/en-us/azure/virtual-machines/windows/sizes-general#dsv2-series' target='_blank'>DS v2</a>\", 'MemoryGB': '14', 'SizeCategory': 'General Purpose', 'Pricing_PAYG_W': '$0.588', 'CacheSizeGiB': '172', 'MaxDataDiskCount': 16, 'NetworkBandwidthMbps': ' 3000', 'TempDiskSize': 28, 'AdditionalInfo': \"<div class='additionalinfo'></div\", 'Pricing_PAYG_L': '$0.312', 'GPU': None}\n",
      "Standard_DS4_v2 $0.623 {'MaxUncachedDiskPerfIOPS': '25600 ', 'DiskInfo': \"<div class='additionalinfo'><span class='value'>32000 / 256 (344)</span> <span class='description'>Max cached and temp storage throughput: IOPS / MBps (cache size in GiB)</span> <br /><span class='value'>25600 / 384</span> <span class='description'>Max uncached disk throughput: IOPS / MBps</span> <br /></div>\", 'MaxCachedDiskPerfIOPSMbps': ' 256 ', 'MaxCachedDiskPerfIOPS': '32000 ', 'SizeName': 'Standard_DS4_v2', 'MaxNICExpectedBandwidth': '8 ', 'MaxTempStoragePerfIOPS': '32000 ', 'MaxUncachedDiskPerfIOPSMbps': ' 384', 'MaxTempStoragePerfIOPSMbps': ' 256 ', 'vCPUs': 8, 'RegionName': 'Australia Southeast', 'SeriesName': \"<a href='https://docs.microsoft.com/en-us/azure/virtual-machines/windows/sizes-general#dsv2-series' target='_blank'>DS v2</a>\", 'MemoryGB': '28', 'SizeCategory': 'General Purpose', 'Pricing_PAYG_W': '$1.177', 'CacheSizeGiB': '344', 'MaxDataDiskCount': 32, 'NetworkBandwidthMbps': ' 6000', 'TempDiskSize': 56, 'AdditionalInfo': \"<div class='additionalinfo'></div\", 'Pricing_PAYG_L': '$0.623', 'GPU': None}\n",
      "Standard_DS5_v2 $1.246 {'MaxUncachedDiskPerfIOPS': '51200 ', 'DiskInfo': \"<div class='additionalinfo'><span class='value'>64000 / 512 (688)</span> <span class='description'>Max cached and temp storage throughput: IOPS / MBps (cache size in GiB)</span> <br /><span class='value'>51200 / 768</span> <span class='description'>Max uncached disk throughput: IOPS / MBps</span> <br /></div>\", 'MaxCachedDiskPerfIOPSMbps': ' 512 ', 'MaxCachedDiskPerfIOPS': '64000 ', 'SizeName': 'Standard_DS5_v2', 'MaxNICExpectedBandwidth': '8 ', 'MaxTempStoragePerfIOPS': '64000 ', 'MaxUncachedDiskPerfIOPSMbps': ' 768', 'MaxTempStoragePerfIOPSMbps': ' 512 ', 'vCPUs': 16, 'RegionName': 'Australia Southeast', 'SeriesName': \"<a href='https://docs.microsoft.com/en-us/azure/virtual-machines/windows/sizes-general#dsv2-series' target='_blank'>DS v2</a>\", 'MemoryGB': '56', 'SizeCategory': 'General Purpose', 'Pricing_PAYG_W': '$2.246', 'CacheSizeGiB': '688', 'MaxDataDiskCount': 64, 'NetworkBandwidthMbps': ' 12000', 'TempDiskSize': 112, 'AdditionalInfo': \"<div class='additionalinfo'></div\", 'Pricing_PAYG_L': '$1.246', 'GPU': None}\n",
      "Standard_DS11_v2 $0.200 {'MaxUncachedDiskPerfIOPS': '6,400 ', 'DiskInfo': \"<div class='additionalinfo'><span class='value'>8,000 / 64 (72)</span> <span class='description'>Max cached and temp storage throughput: IOPS / MBps (cache size in GiB)</span> <br /><span class='value'>6,400 / 96</span> <span class='description'>Max uncached disk throughput: IOPS / MBps</span> <br /></div>\", 'MaxCachedDiskPerfIOPSMbps': ' 64 ', 'MaxCachedDiskPerfIOPS': '8,000 ', 'SizeName': 'Standard_DS11_v2', 'MaxNICExpectedBandwidth': '2 ', 'MaxTempStoragePerfIOPS': '8,000 ', 'MaxUncachedDiskPerfIOPSMbps': ' 96', 'MaxTempStoragePerfIOPSMbps': ' 64 ', 'vCPUs': 2, 'RegionName': 'Australia Southeast', 'SeriesName': \"<a href='https://docs.microsoft.com/en-us/azure/virtual-machines/windows/sizes-memory#dsv2-series-sup1sup' target='_blank'>DS v2</a>\", 'MemoryGB': '14', 'SizeCategory': 'Memory Optimized', 'Pricing_PAYG_W': '$0.313', 'CacheSizeGiB': '72', 'MaxDataDiskCount': 8, 'NetworkBandwidthMbps': ' 1500', 'TempDiskSize': 28, 'AdditionalInfo': \"<div class='additionalinfo'></div\", 'Pricing_PAYG_L': '$0.200', 'GPU': None}\n",
      "Standard_DS12_v2 $0.399 {'MaxUncachedDiskPerfIOPS': '12,800 ', 'DiskInfo': \"<div class='additionalinfo'><span class='value'>16,000 / 128 (144)</span> <span class='description'>Max cached and temp storage throughput: IOPS / MBps (cache size in GiB)</span> <br /><span class='value'>12,800 / 192</span> <span class='description'>Max uncached disk throughput: IOPS / MBps</span> <br /></div>\", 'MaxCachedDiskPerfIOPSMbps': ' 128 ', 'MaxCachedDiskPerfIOPS': '16,000 ', 'SizeName': 'Standard_DS12_v2', 'MaxNICExpectedBandwidth': '4 ', 'MaxTempStoragePerfIOPS': '16,000 ', 'MaxUncachedDiskPerfIOPSMbps': ' 192', 'MaxTempStoragePerfIOPSMbps': ' 128 ', 'vCPUs': 4, 'RegionName': 'Australia Southeast', 'SeriesName': \"<a href='https://docs.microsoft.com/en-us/azure/virtual-machines/windows/sizes-memory#dsv2-series-sup1sup' target='_blank'>DS v2</a>\", 'MemoryGB': '28', 'SizeCategory': 'Memory Optimized', 'Pricing_PAYG_W': '$0.625', 'CacheSizeGiB': '144', 'MaxDataDiskCount': 16, 'NetworkBandwidthMbps': ' 3000', 'TempDiskSize': 56, 'AdditionalInfo': \"<div class='additionalinfo'></div\", 'Pricing_PAYG_L': '$0.399', 'GPU': None}\n",
      "Standard_DS13_v2 $0.798 {'MaxUncachedDiskPerfIOPS': '25,600 ', 'DiskInfo': \"<div class='additionalinfo'><span class='value'>32,000 / 256 (288)</span> <span class='description'>Max cached and temp storage throughput: IOPS / MBps (cache size in GiB)</span> <br /><span class='value'>25,600 / 384</span> <span class='description'>Max uncached disk throughput: IOPS / MBps</span> <br /></div>\", 'MaxCachedDiskPerfIOPSMbps': ' 256 ', 'MaxCachedDiskPerfIOPS': '32,000 ', 'SizeName': 'Standard_DS13_v2', 'MaxNICExpectedBandwidth': '8 ', 'MaxTempStoragePerfIOPS': '32,000 ', 'MaxUncachedDiskPerfIOPSMbps': ' 384', 'MaxTempStoragePerfIOPSMbps': ' 256 ', 'vCPUs': 8, 'RegionName': 'Australia Southeast', 'SeriesName': \"<a href='https://docs.microsoft.com/en-us/azure/virtual-machines/windows/sizes-memory#dsv2-series-sup1sup' target='_blank'>DS v2</a>\", 'MemoryGB': '56', 'SizeCategory': 'Memory Optimized', 'Pricing_PAYG_W': '$1.250', 'CacheSizeGiB': '288', 'MaxDataDiskCount': 32, 'NetworkBandwidthMbps': ' 6000', 'TempDiskSize': 112, 'AdditionalInfo': \"<div class='additionalinfo'></div\", 'Pricing_PAYG_L': '$0.798', 'GPU': None}\n",
      "Standard_DS14_v2 $1.596 {'MaxUncachedDiskPerfIOPS': '51,200 ', 'DiskInfo': \"<div class='additionalinfo'><span class='value'>64,000 / 512 (576)</span> <span class='description'>Max cached and temp storage throughput: IOPS / MBps (cache size in GiB)</span> <br /><span class='value'>51,200 / 768</span> <span class='description'>Max uncached disk throughput: IOPS / MBps</span> <br /></div>\", 'MaxCachedDiskPerfIOPSMbps': ' 512 ', 'MaxCachedDiskPerfIOPS': '64,000 ', 'SizeName': 'Standard_DS14_v2', 'MaxNICExpectedBandwidth': '8 ', 'MaxTempStoragePerfIOPS': '64,000 ', 'MaxUncachedDiskPerfIOPSMbps': ' 768', 'MaxTempStoragePerfIOPSMbps': ' 512 ', 'vCPUs': 16, 'RegionName': 'Australia Southeast', 'SeriesName': \"<a href='https://docs.microsoft.com/en-us/azure/virtual-machines/windows/sizes-memory#dsv2-series-sup1sup' target='_blank'>DS v2</a>\", 'MemoryGB': '112', 'SizeCategory': 'Memory Optimized', 'Pricing_PAYG_W': '$2.363', 'CacheSizeGiB': '576', 'MaxDataDiskCount': 64, 'NetworkBandwidthMbps': ' 12000', 'TempDiskSize': 224, 'AdditionalInfo': \"<div class='additionalinfo'></div\", 'Pricing_PAYG_L': '$1.596', 'GPU': None}\n",
      "Standard_DS15_v2 $1.995 {'MaxUncachedDiskPerfIOPS': '64,000 ', 'DiskInfo': \"<div class='additionalinfo'><span class='value'>80,000 / 640 (720)</span> <span class='description'>Max cached and temp storage throughput: IOPS / MBps (cache size in GiB)</span> <br /><span class='value'>64,000 / 960</span> <span class='description'>Max uncached disk throughput: IOPS / MBps</span> <br /></div>\", 'MaxCachedDiskPerfIOPSMbps': ' 640 ', 'MaxCachedDiskPerfIOPS': '80,000 ', 'SizeName': 'Standard_DS15_v2', 'MaxNICExpectedBandwidth': '8 ', 'MaxTempStoragePerfIOPS': '80,000 ', 'MaxUncachedDiskPerfIOPSMbps': ' 960', 'MaxTempStoragePerfIOPSMbps': ' 640 ', 'vCPUs': 20, 'RegionName': 'Australia Southeast', 'SeriesName': \"<a href='https://docs.microsoft.com/en-us/azure/virtual-machines/windows/sizes-memory#dsv2-series-sup1sup' target='_blank'>DS v2</a>\", 'MemoryGB': '140', 'SizeCategory': 'Memory Optimized', 'Pricing_PAYG_W': '$2.954', 'CacheSizeGiB': '720', 'MaxDataDiskCount': 64, 'NetworkBandwidthMbps': ' 25000 3', 'TempDiskSize': 280, 'AdditionalInfo': \"<div class='additionalinfo'></div\", 'Pricing_PAYG_L': '$1.995', 'GPU': None}\n",
      "Standard_F1s $0.065 {'MaxUncachedDiskPerfIOPS': '3200 ', 'DiskInfo': \"<div class='additionalinfo'><span class='value'>4000 / 32 (12)</span> <span class='description'>Max cached and temp storage throughput: IOPS / MBps (cache size in GiB)</span> <br /><span class='value'>3200 / 48</span> <span class='description'>Max uncached disk throughput: IOPS / MBps</span> <br /></div>\", 'MaxCachedDiskPerfIOPSMbps': ' 32 ', 'MaxCachedDiskPerfIOPS': '4000 ', 'SizeName': 'Standard_F1s', 'MaxNICExpectedBandwidth': '2 ', 'MaxTempStoragePerfIOPS': '4000 ', 'MaxUncachedDiskPerfIOPSMbps': ' 48', 'MaxTempStoragePerfIOPSMbps': ' 32 ', 'vCPUs': 1, 'RegionName': 'Australia Southeast', 'SeriesName': \"<a href='https://docs.microsoft.com/en-us/azure/virtual-machines/windows/sizes-compute#fs-series-sup1sup' target='_blank'>FS</a>\", 'MemoryGB': '2', 'SizeCategory': 'Compute Optimized', 'Pricing_PAYG_W': '$0.111', 'CacheSizeGiB': '12', 'MaxDataDiskCount': 4, 'NetworkBandwidthMbps': ' 750', 'TempDiskSize': 4, 'AdditionalInfo': \"<div class='additionalinfo'></div\", 'Pricing_PAYG_L': '$0.065', 'GPU': None}\n",
      "Standard_F2s $0.130 {'MaxUncachedDiskPerfIOPS': '6400 ', 'DiskInfo': \"<div class='additionalinfo'><span class='value'>8000 / 64 (24)</span> <span class='description'>Max cached and temp storage throughput: IOPS / MBps (cache size in GiB)</span> <br /><span class='value'>6400 / 96</span> <span class='description'>Max uncached disk throughput: IOPS / MBps</span> <br /></div>\", 'MaxCachedDiskPerfIOPSMbps': ' 64 ', 'MaxCachedDiskPerfIOPS': '8000 ', 'SizeName': 'Standard_F2s', 'MaxNICExpectedBandwidth': '2 ', 'MaxTempStoragePerfIOPS': '8000 ', 'MaxUncachedDiskPerfIOPSMbps': ' 96', 'MaxTempStoragePerfIOPSMbps': ' 64 ', 'vCPUs': 2, 'RegionName': 'Australia Southeast', 'SeriesName': \"<a href='https://docs.microsoft.com/en-us/azure/virtual-machines/windows/sizes-compute#fs-series-sup1sup' target='_blank'>FS</a>\", 'MemoryGB': '4', 'SizeCategory': 'Compute Optimized', 'Pricing_PAYG_W': '$0.222', 'CacheSizeGiB': '24', 'MaxDataDiskCount': 8, 'NetworkBandwidthMbps': ' 1500', 'TempDiskSize': 8, 'AdditionalInfo': \"<div class='additionalinfo'></div\", 'Pricing_PAYG_L': '$0.130', 'GPU': None}\n",
      "Standard_F4s $0.261 {'MaxUncachedDiskPerfIOPS': '12800 ', 'DiskInfo': \"<div class='additionalinfo'><span class='value'>16000 / 128 (48)</span> <span class='description'>Max cached and temp storage throughput: IOPS / MBps (cache size in GiB)</span> <br /><span class='value'>12800 / 192</span> <span class='description'>Max uncached disk throughput: IOPS / MBps</span> <br /></div>\", 'MaxCachedDiskPerfIOPSMbps': ' 128 ', 'MaxCachedDiskPerfIOPS': '16000 ', 'SizeName': 'Standard_F4s', 'MaxNICExpectedBandwidth': '4 ', 'MaxTempStoragePerfIOPS': '16000 ', 'MaxUncachedDiskPerfIOPSMbps': ' 192', 'MaxTempStoragePerfIOPSMbps': ' 128 ', 'vCPUs': 4, 'RegionName': 'Australia Southeast', 'SeriesName': \"<a href='https://docs.microsoft.com/en-us/azure/virtual-machines/windows/sizes-compute#fs-series-sup1sup' target='_blank'>FS</a>\", 'MemoryGB': '8', 'SizeCategory': 'Compute Optimized', 'Pricing_PAYG_W': '$0.445', 'CacheSizeGiB': '48', 'MaxDataDiskCount': 16, 'NetworkBandwidthMbps': ' 3000', 'TempDiskSize': 16, 'AdditionalInfo': \"<div class='additionalinfo'></div\", 'Pricing_PAYG_L': '$0.261', 'GPU': None}\n",
      "Standard_F8s $0.522 {'MaxUncachedDiskPerfIOPS': '25600 ', 'DiskInfo': \"<div class='additionalinfo'><span class='value'>32000 / 256 (96)</span> <span class='description'>Max cached and temp storage throughput: IOPS / MBps (cache size in GiB)</span> <br /><span class='value'>25600 / 384</span> <span class='description'>Max uncached disk throughput: IOPS / MBps</span> <br /></div>\", 'MaxCachedDiskPerfIOPSMbps': ' 256 ', 'MaxCachedDiskPerfIOPS': '32000 ', 'SizeName': 'Standard_F8s', 'MaxNICExpectedBandwidth': '8 ', 'MaxTempStoragePerfIOPS': '32000 ', 'MaxUncachedDiskPerfIOPSMbps': ' 384', 'MaxTempStoragePerfIOPSMbps': ' 256 ', 'vCPUs': 8, 'RegionName': 'Australia Southeast', 'SeriesName': \"<a href='https://docs.microsoft.com/en-us/azure/virtual-machines/windows/sizes-compute#fs-series-sup1sup' target='_blank'>FS</a>\", 'MemoryGB': '16', 'SizeCategory': 'Compute Optimized', 'Pricing_PAYG_W': '$0.890', 'CacheSizeGiB': '96', 'MaxDataDiskCount': 32, 'NetworkBandwidthMbps': ' 6000', 'TempDiskSize': 32, 'AdditionalInfo': \"<div class='additionalinfo'></div\", 'Pricing_PAYG_L': '$0.522', 'GPU': None}\n",
      "Standard_F16s $1.042 {'MaxUncachedDiskPerfIOPS': '51200 ', 'DiskInfo': \"<div class='additionalinfo'><span class='value'>64000 / 512 (192)</span> <span class='description'>Max cached and temp storage throughput: IOPS / MBps (cache size in GiB)</span> <br /><span class='value'>51200 / 768</span> <span class='description'>Max uncached disk throughput: IOPS / MBps</span> <br /></div>\", 'MaxCachedDiskPerfIOPSMbps': ' 512 ', 'MaxCachedDiskPerfIOPS': '64000 ', 'SizeName': 'Standard_F16s', 'MaxNICExpectedBandwidth': '8 ', 'MaxTempStoragePerfIOPS': '64000 ', 'MaxUncachedDiskPerfIOPSMbps': ' 768', 'MaxTempStoragePerfIOPSMbps': ' 512 ', 'vCPUs': 16, 'RegionName': 'Australia Southeast', 'SeriesName': \"<a href='https://docs.microsoft.com/en-us/azure/virtual-machines/windows/sizes-compute#fs-series-sup1sup' target='_blank'>FS</a>\", 'MemoryGB': '32', 'SizeCategory': 'Compute Optimized', 'Pricing_PAYG_W': '$1.778', 'CacheSizeGiB': '192', 'MaxDataDiskCount': 64, 'NetworkBandwidthMbps': ' 12000', 'TempDiskSize': 64, 'AdditionalInfo': \"<div class='additionalinfo'></div\", 'Pricing_PAYG_L': '$1.042', 'GPU': None}\n",
      "Standard_B1ms $0.032 {'MaxUncachedDiskPerfIOPS': '640 ', 'DiskInfo': \"<div class='additionalinfo'><span class='value'>800 / 10</span> <span class='description'>Max local disk perf: IOPS / MBps</span> <br /><span class='value'>640 / 10</span> <span class='description'>Max uncached disk perf: IOPS / MBps</span> <br /></div>\", 'MaxCachedDiskPerfIOPSMbps': None, 'MaxCachedDiskPerfIOPS': None, 'SizeName': 'Standard_B1ms', 'MaxNICExpectedBandwidth': '2', 'MaxTempStoragePerfIOPS': '800 ', 'MaxUncachedDiskPerfIOPSMbps': ' 10', 'MaxTempStoragePerfIOPSMbps': ' 10', 'vCPUs': 1, 'RegionName': 'Australia Southeast', 'SeriesName': \"<a href='https://docs.microsoft.com/en-us/azure/virtual-machines/windows/sizes-general#b-series' target='_blank'>B</a>\", 'MemoryGB': '2', 'SizeCategory': 'General Purpose', 'Pricing_PAYG_W': '$0.041', 'CacheSizeGiB': None, 'MaxDataDiskCount': 2, 'NetworkBandwidthMbps': None, 'TempDiskSize': 4, 'AdditionalInfo': \"<div class='additionalinfo'><span class='value'>20%</span> <span class='description'>Base Perf of a Core</span><br /><span class='value'>12</span> <span class='description'>Credits banked / hour</span><br /><span class='value'>288</span> <span class='description'>Max Banked Credits</span><br /></div\", 'Pricing_PAYG_L': '$0.032', 'GPU': None}\n",
      "Standard_B1s $0.016 {'MaxUncachedDiskPerfIOPS': '320 ', 'DiskInfo': \"<div class='additionalinfo'><span class='value'>400 / 10</span> <span class='description'>Max local disk perf: IOPS / MBps</span> <br /><span class='value'>320 / 10</span> <span class='description'>Max uncached disk perf: IOPS / MBps</span> <br /></div>\", 'MaxCachedDiskPerfIOPSMbps': None, 'MaxCachedDiskPerfIOPS': None, 'SizeName': 'Standard_B1s', 'MaxNICExpectedBandwidth': '2', 'MaxTempStoragePerfIOPS': '400 ', 'MaxUncachedDiskPerfIOPSMbps': ' 10', 'MaxTempStoragePerfIOPSMbps': ' 10', 'vCPUs': 1, 'RegionName': 'Australia Southeast', 'SeriesName': \"<a href='https://docs.microsoft.com/en-us/azure/virtual-machines/windows/sizes-general#b-series' target='_blank'>B</a>\", 'MemoryGB': '1', 'SizeCategory': 'General Purpose', 'Pricing_PAYG_W': '$0.020', 'CacheSizeGiB': None, 'MaxDataDiskCount': 2, 'NetworkBandwidthMbps': None, 'TempDiskSize': 2, 'AdditionalInfo': \"<div class='additionalinfo'><span class='value'>10%</span> <span class='description'>Base Perf of a Core</span><br /><span class='value'>6</span> <span class='description'>Credits banked / hour</span><br /><span class='value'>144</span> <span class='description'>Max Banked Credits</span><br /></div\", 'Pricing_PAYG_L': '$0.016', 'GPU': None}\n",
      "Standard_B2ms $0.128 {'MaxUncachedDiskPerfIOPS': '1920 ', 'DiskInfo': \"<div class='additionalinfo'><span class='value'>2400 / 22.5</span> <span class='description'>Max local disk perf: IOPS / MBps</span> <br /><span class='value'>1920 / 22.5</span> <span class='description'>Max uncached disk perf: IOPS / MBps</span> <br /></div>\", 'MaxCachedDiskPerfIOPSMbps': None, 'MaxCachedDiskPerfIOPS': None, 'SizeName': 'Standard_B2ms', 'MaxNICExpectedBandwidth': '3', 'MaxTempStoragePerfIOPS': '2400 ', 'MaxUncachedDiskPerfIOPSMbps': ' 22.5', 'MaxTempStoragePerfIOPSMbps': ' 22.5', 'vCPUs': 2, 'RegionName': 'Australia Southeast', 'SeriesName': \"<a href='https://docs.microsoft.com/en-us/azure/virtual-machines/windows/sizes-general#b-series' target='_blank'>B</a>\", 'MemoryGB': '8', 'SizeCategory': 'General Purpose', 'Pricing_PAYG_W': '$0.156', 'CacheSizeGiB': None, 'MaxDataDiskCount': 4, 'NetworkBandwidthMbps': None, 'TempDiskSize': 16, 'AdditionalInfo': \"<div class='additionalinfo'><span class='value'>60%</span> <span class='description'>Base Perf of a Core</span><br /><span class='value'>36</span> <span class='description'>Credits banked / hour</span><br /><span class='value'>864</span> <span class='description'>Max Banked Credits</span><br /></div\", 'Pricing_PAYG_L': '$0.128', 'GPU': None}\n",
      "Standard_B2s $0.064 {'MaxUncachedDiskPerfIOPS': '1280 ', 'DiskInfo': \"<div class='additionalinfo'><span class='value'>1600 / 15</span> <span class='description'>Max local disk perf: IOPS / MBps</span> <br /><span class='value'>1280 / 15</span> <span class='description'>Max uncached disk perf: IOPS / MBps</span> <br /></div>\", 'MaxCachedDiskPerfIOPSMbps': None, 'MaxCachedDiskPerfIOPS': None, 'SizeName': 'Standard_B2s', 'MaxNICExpectedBandwidth': '3', 'MaxTempStoragePerfIOPS': '1600 ', 'MaxUncachedDiskPerfIOPSMbps': ' 15', 'MaxTempStoragePerfIOPSMbps': ' 15', 'vCPUs': 2, 'RegionName': 'Australia Southeast', 'SeriesName': \"<a href='https://docs.microsoft.com/en-us/azure/virtual-machines/windows/sizes-general#b-series' target='_blank'>B</a>\", 'MemoryGB': '4', 'SizeCategory': 'General Purpose', 'Pricing_PAYG_W': '$0.082', 'CacheSizeGiB': None, 'MaxDataDiskCount': 4, 'NetworkBandwidthMbps': None, 'TempDiskSize': 8, 'AdditionalInfo': \"<div class='additionalinfo'><span class='value'>40%</span> <span class='description'>Base Perf of a Core</span><br /><span class='value'>24</span> <span class='description'>Credits banked / hour</span><br /><span class='value'>576</span> <span class='description'>Max Banked Credits</span><br /></div\", 'Pricing_PAYG_L': '$0.064', 'GPU': None}\n",
      "Standard_B4ms $0.256 {'MaxUncachedDiskPerfIOPS': '2880 ', 'DiskInfo': \"<div class='additionalinfo'><span class='value'>3600 / 35</span> <span class='description'>Max local disk perf: IOPS / MBps</span> <br /><span class='value'>2880 / 35</span> <span class='description'>Max uncached disk perf: IOPS / MBps</span> <br /></div>\", 'MaxCachedDiskPerfIOPSMbps': None, 'MaxCachedDiskPerfIOPS': None, 'SizeName': 'Standard_B4ms', 'MaxNICExpectedBandwidth': '4', 'MaxTempStoragePerfIOPS': '3600 ', 'MaxUncachedDiskPerfIOPSMbps': ' 35', 'MaxTempStoragePerfIOPSMbps': ' 35', 'vCPUs': 4, 'RegionName': 'Australia Southeast', 'SeriesName': \"<a href='https://docs.microsoft.com/en-us/azure/virtual-machines/windows/sizes-general#b-series' target='_blank'>B</a>\", 'MemoryGB': '16', 'SizeCategory': 'General Purpose', 'Pricing_PAYG_W': '$0.297', 'CacheSizeGiB': None, 'MaxDataDiskCount': 8, 'NetworkBandwidthMbps': None, 'TempDiskSize': 32, 'AdditionalInfo': \"<div class='additionalinfo'><span class='value'>90%</span> <span class='description'>Base Perf of a Core</span><br /><span class='value'>54</span> <span class='description'>Credits banked / hour</span><br /><span class='value'>1296</span> <span class='description'>Max Banked Credits</span><br /></div\", 'Pricing_PAYG_L': '$0.256', 'GPU': None}\n",
      "Standard_B8ms $0.512 {'MaxUncachedDiskPerfIOPS': '4320 ', 'DiskInfo': \"<div class='additionalinfo'><span class='value'>4320 / 50</span> <span class='description'>Max local disk perf: IOPS / MBps</span> <br /><span class='value'>4320 / 50</span> <span class='description'>Max uncached disk perf: IOPS / MBps</span> <br /></div>\", 'MaxCachedDiskPerfIOPSMbps': None, 'MaxCachedDiskPerfIOPS': None, 'SizeName': 'Standard_B8ms', 'MaxNICExpectedBandwidth': '4', 'MaxTempStoragePerfIOPS': '4320 ', 'MaxUncachedDiskPerfIOPSMbps': ' 50', 'MaxTempStoragePerfIOPSMbps': ' 50', 'vCPUs': 8, 'RegionName': 'Australia Southeast', 'SeriesName': \"<a href='https://docs.microsoft.com/en-us/azure/virtual-machines/windows/sizes-general#b-series' target='_blank'>B</a>\", 'MemoryGB': '32', 'SizeCategory': 'General Purpose', 'Pricing_PAYG_W': '$0.574', 'CacheSizeGiB': None, 'MaxDataDiskCount': 16, 'NetworkBandwidthMbps': None, 'TempDiskSize': 64, 'AdditionalInfo': \"<div class='additionalinfo'><span class='value'>135%</span> <span class='description'>Base Perf of a Core</span><br /><span class='value'>81</span> <span class='description'>Credits banked / hour</span><br /><span class='value'>1944</span> <span class='description'>Max Banked Credits</span><br /></div\", 'Pricing_PAYG_L': '$0.512', 'GPU': None}\n",
      "Standard_D2_v3 $0.125 {'MaxUncachedDiskPerfIOPS': None, 'DiskInfo': \"<div class='additionalinfo'><span class='value'>3000/46/23</span> <span class='description'>Max temp storage throughput: IOPS / Read MBps / Write MBps</span> <br /></div>\", 'MaxCachedDiskPerfIOPSMbps': 'Read: 46/ Write: 23', 'MaxCachedDiskPerfIOPS': '3000', 'SizeName': 'Standard_D2_v3', 'MaxNICExpectedBandwidth': '2 ', 'MaxTempStoragePerfIOPS': '3000', 'MaxUncachedDiskPerfIOPSMbps': None, 'MaxTempStoragePerfIOPSMbps': 'Read: 46/ Write: 23', 'vCPUs': 2, 'RegionName': 'Australia Southeast', 'SeriesName': \"<a href='https://docs.microsoft.com/en-us/azure/virtual-machines/windows/sizes-general#dv3-series-sup1sup' target='_blank'>D v3</a>\", 'MemoryGB': '8', 'SizeCategory': 'General Purpose', 'Pricing_PAYG_W': '$0.217', 'CacheSizeGiB': None, 'MaxDataDiskCount': 4, 'NetworkBandwidthMbps': ' 1000', 'TempDiskSize': 50, 'AdditionalInfo': \"<div class='additionalinfo'></div\", 'Pricing_PAYG_L': '$0.125', 'GPU': None}\n",
      "Standard_D4_v3 $0.250 {'MaxUncachedDiskPerfIOPS': None, 'DiskInfo': \"<div class='additionalinfo'><span class='value'>6000/93/46</span> <span class='description'>Max temp storage throughput: IOPS / Read MBps / Write MBps</span> <br /></div>\", 'MaxCachedDiskPerfIOPSMbps': 'Read: 93/ Write: 46', 'MaxCachedDiskPerfIOPS': '6000', 'SizeName': 'Standard_D4_v3', 'MaxNICExpectedBandwidth': '2 ', 'MaxTempStoragePerfIOPS': '6000', 'MaxUncachedDiskPerfIOPSMbps': None, 'MaxTempStoragePerfIOPSMbps': 'Read: 93/ Write: 46', 'vCPUs': 4, 'RegionName': 'Australia Southeast', 'SeriesName': \"<a href='https://docs.microsoft.com/en-us/azure/virtual-machines/windows/sizes-general#dv3-series-sup1sup' target='_blank'>D v3</a>\", 'MemoryGB': '16', 'SizeCategory': 'General Purpose', 'Pricing_PAYG_W': '$0.434', 'CacheSizeGiB': None, 'MaxDataDiskCount': 8, 'NetworkBandwidthMbps': ' 2000', 'TempDiskSize': 100, 'AdditionalInfo': \"<div class='additionalinfo'></div\", 'Pricing_PAYG_L': '$0.250', 'GPU': None}\n",
      "Standard_D8_v3 $0.500 {'MaxUncachedDiskPerfIOPS': None, 'DiskInfo': \"<div class='additionalinfo'><span class='value'>12000/187/93</span> <span class='description'>Max temp storage throughput: IOPS / Read MBps / Write MBps</span> <br /></div>\", 'MaxCachedDiskPerfIOPSMbps': 'Read: 187/ Write: 93', 'MaxCachedDiskPerfIOPS': '12000', 'SizeName': 'Standard_D8_v3', 'MaxNICExpectedBandwidth': '4 ', 'MaxTempStoragePerfIOPS': '12000', 'MaxUncachedDiskPerfIOPSMbps': None, 'MaxTempStoragePerfIOPSMbps': 'Read: 187/ Write: 93', 'vCPUs': 8, 'RegionName': 'Australia Southeast', 'SeriesName': \"<a href='https://docs.microsoft.com/en-us/azure/virtual-machines/windows/sizes-general#dv3-series-sup1sup' target='_blank'>D v3</a>\", 'MemoryGB': '32', 'SizeCategory': 'General Purpose', 'Pricing_PAYG_W': '$0.868', 'CacheSizeGiB': None, 'MaxDataDiskCount': 16, 'NetworkBandwidthMbps': ' 4000', 'TempDiskSize': 200, 'AdditionalInfo': \"<div class='additionalinfo'></div\", 'Pricing_PAYG_L': '$0.500', 'GPU': None}\n",
      "Standard_D16_v3 $1.000 {'MaxUncachedDiskPerfIOPS': None, 'DiskInfo': \"<div class='additionalinfo'><span class='value'>24000/375/187</span> <span class='description'>Max temp storage throughput: IOPS / Read MBps / Write MBps</span> <br /></div>\", 'MaxCachedDiskPerfIOPSMbps': 'Read: 375/ Write: 187', 'MaxCachedDiskPerfIOPS': '24000', 'SizeName': 'Standard_D16_v3', 'MaxNICExpectedBandwidth': '8 ', 'MaxTempStoragePerfIOPS': '24000', 'MaxUncachedDiskPerfIOPSMbps': None, 'MaxTempStoragePerfIOPSMbps': 'Read: 375/ Write: 187', 'vCPUs': 16, 'RegionName': 'Australia Southeast', 'SeriesName': \"<a href='https://docs.microsoft.com/en-us/azure/virtual-machines/windows/sizes-general#dv3-series-sup1sup' target='_blank'>D v3</a>\", 'MemoryGB': '64', 'SizeCategory': 'General Purpose', 'Pricing_PAYG_W': '$1.736', 'CacheSizeGiB': None, 'MaxDataDiskCount': 32, 'NetworkBandwidthMbps': ' 8000', 'TempDiskSize': 400, 'AdditionalInfo': \"<div class='additionalinfo'></div\", 'Pricing_PAYG_L': '$1.000', 'GPU': None}\n",
      "Standard_D32_v3 $2.000 {'MaxUncachedDiskPerfIOPS': None, 'DiskInfo': \"<div class='additionalinfo'><span class='value'>48000/750/375</span> <span class='description'>Max temp storage throughput: IOPS / Read MBps / Write MBps</span> <br /></div>\", 'MaxCachedDiskPerfIOPSMbps': 'Read: 750/ Write: 375', 'MaxCachedDiskPerfIOPS': '48000', 'SizeName': 'Standard_D32_v3', 'MaxNICExpectedBandwidth': '8 ', 'MaxTempStoragePerfIOPS': '48000', 'MaxUncachedDiskPerfIOPSMbps': None, 'MaxTempStoragePerfIOPSMbps': 'Read: 750/ Write: 375', 'vCPUs': 32, 'RegionName': 'Australia Southeast', 'SeriesName': \"<a href='https://docs.microsoft.com/en-us/azure/virtual-machines/windows/sizes-general#dv3-series-sup1sup' target='_blank'>D v3</a>\", 'MemoryGB': '128', 'SizeCategory': 'General Purpose', 'Pricing_PAYG_W': '$3.472', 'CacheSizeGiB': None, 'MaxDataDiskCount': 32, 'NetworkBandwidthMbps': ' 16000', 'TempDiskSize': 800, 'AdditionalInfo': \"<div class='additionalinfo'></div\", 'Pricing_PAYG_L': '$2.000', 'GPU': None}\n",
      "Standard_D64_v3 $4.000 {'MaxUncachedDiskPerfIOPS': None, 'DiskInfo': \"<div class='additionalinfo'><span class='value'>96000/1000/500</span> <span class='description'>Max temp storage throughput: IOPS / Read MBps / Write MBps</span> <br /></div>\", 'MaxCachedDiskPerfIOPSMbps': 'Read: 1000/ Write: 500', 'MaxCachedDiskPerfIOPS': '96000', 'SizeName': 'Standard_D64_v3', 'MaxNICExpectedBandwidth': '8 ', 'MaxTempStoragePerfIOPS': '96000', 'MaxUncachedDiskPerfIOPSMbps': None, 'MaxTempStoragePerfIOPSMbps': 'Read: 1000/ Write: 500', 'vCPUs': 64, 'RegionName': 'Australia Southeast', 'SeriesName': \"<a href='https://docs.microsoft.com/en-us/azure/virtual-machines/windows/sizes-general#dv3-series-sup1sup' target='_blank'>D v3</a>\", 'MemoryGB': '256', 'SizeCategory': 'General Purpose', 'Pricing_PAYG_W': '$6.944', 'CacheSizeGiB': None, 'MaxDataDiskCount': 32, 'NetworkBandwidthMbps': ' 30000', 'TempDiskSize': 1600, 'AdditionalInfo': \"<div class='additionalinfo'></div\", 'Pricing_PAYG_L': '$4.000', 'GPU': None}\n",
      "Standard_D2s_v3 $0.125 {'MaxUncachedDiskPerfIOPS': '3200 ', 'DiskInfo': \"<div class='additionalinfo'><span class='value'>4000 / 32 (50)</span> <span class='description'>Max cached and temp storage throughput: IOPS / MBps (cache size in GiB)</span> <br /><span class='value'>3200 / 48</span> <span class='description'>Max uncached disk throughput: IOPS / MBps</span> <br /></div>\", 'MaxCachedDiskPerfIOPSMbps': ' 32 ', 'MaxCachedDiskPerfIOPS': '4000 ', 'SizeName': 'Standard_D2s_v3', 'MaxNICExpectedBandwidth': '2 ', 'MaxTempStoragePerfIOPS': '4000 ', 'MaxUncachedDiskPerfIOPSMbps': ' 48', 'MaxTempStoragePerfIOPSMbps': ' 32 ', 'vCPUs': 2, 'RegionName': 'Australia Southeast', 'SeriesName': \"<a href='https://docs.microsoft.com/en-us/azure/virtual-machines/windows/sizes-general#dsv3-series-sup1sup' target='_blank'>DS v3</a>\", 'MemoryGB': '8', 'SizeCategory': 'General Purpose', 'Pricing_PAYG_W': '$0.217', 'CacheSizeGiB': '50', 'MaxDataDiskCount': 4, 'NetworkBandwidthMbps': ' 1000', 'TempDiskSize': 16, 'AdditionalInfo': \"<div class='additionalinfo'></div\", 'Pricing_PAYG_L': '$0.125', 'GPU': None}\n",
      "Standard_D4s_v3 $0.250 {'MaxUncachedDiskPerfIOPS': '6400 ', 'DiskInfo': \"<div class='additionalinfo'><span class='value'>8000 / 64 (100)</span> <span class='description'>Max cached and temp storage throughput: IOPS / MBps (cache size in GiB)</span> <br /><span class='value'>6400 / 96</span> <span class='description'>Max uncached disk throughput: IOPS / MBps</span> <br /></div>\", 'MaxCachedDiskPerfIOPSMbps': ' 64 ', 'MaxCachedDiskPerfIOPS': '8000 ', 'SizeName': 'Standard_D4s_v3', 'MaxNICExpectedBandwidth': '2 ', 'MaxTempStoragePerfIOPS': '8000 ', 'MaxUncachedDiskPerfIOPSMbps': ' 96', 'MaxTempStoragePerfIOPSMbps': ' 64 ', 'vCPUs': 4, 'RegionName': 'Australia Southeast', 'SeriesName': \"<a href='https://docs.microsoft.com/en-us/azure/virtual-machines/windows/sizes-general#dsv3-series-sup1sup' target='_blank'>DS v3</a>\", 'MemoryGB': '16', 'SizeCategory': 'General Purpose', 'Pricing_PAYG_W': '$0.434', 'CacheSizeGiB': '100', 'MaxDataDiskCount': 8, 'NetworkBandwidthMbps': ' 2000', 'TempDiskSize': 32, 'AdditionalInfo': \"<div class='additionalinfo'></div\", 'Pricing_PAYG_L': '$0.250', 'GPU': None}\n",
      "Standard_D8s_v3 $0.500 {'MaxUncachedDiskPerfIOPS': '12800 ', 'DiskInfo': \"<div class='additionalinfo'><span class='value'>16000 / 128 (200)</span> <span class='description'>Max cached and temp storage throughput: IOPS / MBps (cache size in GiB)</span> <br /><span class='value'>12800 / 192</span> <span class='description'>Max uncached disk throughput: IOPS / MBps</span> <br /></div>\", 'MaxCachedDiskPerfIOPSMbps': ' 128 ', 'MaxCachedDiskPerfIOPS': '16000 ', 'SizeName': 'Standard_D8s_v3', 'MaxNICExpectedBandwidth': '4 ', 'MaxTempStoragePerfIOPS': '16000 ', 'MaxUncachedDiskPerfIOPSMbps': ' 192', 'MaxTempStoragePerfIOPSMbps': ' 128 ', 'vCPUs': 8, 'RegionName': 'Australia Southeast', 'SeriesName': \"<a href='https://docs.microsoft.com/en-us/azure/virtual-machines/windows/sizes-general#dsv3-series-sup1sup' target='_blank'>DS v3</a>\", 'MemoryGB': '32', 'SizeCategory': 'General Purpose', 'Pricing_PAYG_W': '$0.868', 'CacheSizeGiB': '200', 'MaxDataDiskCount': 16, 'NetworkBandwidthMbps': ' 4000', 'TempDiskSize': 64, 'AdditionalInfo': \"<div class='additionalinfo'></div\", 'Pricing_PAYG_L': '$0.500', 'GPU': None}\n",
      "Standard_D16s_v3 $1.000 {'MaxUncachedDiskPerfIOPS': '25600 ', 'DiskInfo': \"<div class='additionalinfo'><span class='value'>32000 / 256 (400)</span> <span class='description'>Max cached and temp storage throughput: IOPS / MBps (cache size in GiB)</span> <br /><span class='value'>25600 / 384</span> <span class='description'>Max uncached disk throughput: IOPS / MBps</span> <br /></div>\", 'MaxCachedDiskPerfIOPSMbps': ' 256 ', 'MaxCachedDiskPerfIOPS': '32000 ', 'SizeName': 'Standard_D16s_v3', 'MaxNICExpectedBandwidth': '8 ', 'MaxTempStoragePerfIOPS': '32000 ', 'MaxUncachedDiskPerfIOPSMbps': ' 384', 'MaxTempStoragePerfIOPSMbps': ' 256 ', 'vCPUs': 16, 'RegionName': 'Australia Southeast', 'SeriesName': \"<a href='https://docs.microsoft.com/en-us/azure/virtual-machines/windows/sizes-general#dsv3-series-sup1sup' target='_blank'>DS v3</a>\", 'MemoryGB': '64', 'SizeCategory': 'General Purpose', 'Pricing_PAYG_W': '$1.736', 'CacheSizeGiB': '400', 'MaxDataDiskCount': 32, 'NetworkBandwidthMbps': ' 8000', 'TempDiskSize': 128, 'AdditionalInfo': \"<div class='additionalinfo'></div\", 'Pricing_PAYG_L': '$1.000', 'GPU': None}\n",
      "Standard_D32s_v3 $2.000 {'MaxUncachedDiskPerfIOPS': '51200 ', 'DiskInfo': \"<div class='additionalinfo'><span class='value'>64000 / 512 (800)</span> <span class='description'>Max cached and temp storage throughput: IOPS / MBps (cache size in GiB)</span> <br /><span class='value'>51200 / 768</span> <span class='description'>Max uncached disk throughput: IOPS / MBps</span> <br /></div>\", 'MaxCachedDiskPerfIOPSMbps': ' 512 ', 'MaxCachedDiskPerfIOPS': '64000 ', 'SizeName': 'Standard_D32s_v3', 'MaxNICExpectedBandwidth': '8 ', 'MaxTempStoragePerfIOPS': '64000 ', 'MaxUncachedDiskPerfIOPSMbps': ' 768', 'MaxTempStoragePerfIOPSMbps': ' 512 ', 'vCPUs': 32, 'RegionName': 'Australia Southeast', 'SeriesName': \"<a href='https://docs.microsoft.com/en-us/azure/virtual-machines/windows/sizes-general#dsv3-series-sup1sup' target='_blank'>DS v3</a>\", 'MemoryGB': '128', 'SizeCategory': 'General Purpose', 'Pricing_PAYG_W': '$3.472', 'CacheSizeGiB': '800', 'MaxDataDiskCount': 32, 'NetworkBandwidthMbps': ' 16000', 'TempDiskSize': 256, 'AdditionalInfo': \"<div class='additionalinfo'></div\", 'Pricing_PAYG_L': '$2.000', 'GPU': None}\n",
      "Standard_D64s_v3 $4.000 {'MaxUncachedDiskPerfIOPS': '80000 ', 'DiskInfo': \"<div class='additionalinfo'><span class='value'>128000 / 1024 (1600)</span> <span class='description'>Max cached and temp storage throughput: IOPS / MBps (cache size in GiB)</span> <br /><span class='value'>80000 / 1200</span> <span class='description'>Max uncached disk throughput: IOPS / MBps</span> <br /></div>\", 'MaxCachedDiskPerfIOPSMbps': ' 1024 ', 'MaxCachedDiskPerfIOPS': '128000 ', 'SizeName': 'Standard_D64s_v3', 'MaxNICExpectedBandwidth': '8 ', 'MaxTempStoragePerfIOPS': '128000 ', 'MaxUncachedDiskPerfIOPSMbps': ' 1200', 'MaxTempStoragePerfIOPSMbps': ' 1024 ', 'vCPUs': 64, 'RegionName': 'Australia Southeast', 'SeriesName': \"<a href='https://docs.microsoft.com/en-us/azure/virtual-machines/windows/sizes-general#dsv3-series-sup1sup' target='_blank'>DS v3</a>\", 'MemoryGB': '256', 'SizeCategory': 'General Purpose', 'Pricing_PAYG_W': '$6.944', 'CacheSizeGiB': '1600', 'MaxDataDiskCount': 32, 'NetworkBandwidthMbps': ' 30000', 'TempDiskSize': 512, 'AdditionalInfo': \"<div class='additionalinfo'></div\", 'Pricing_PAYG_L': '$4.000', 'GPU': None}\n",
      "Standard_E2_v3 $0.160 {'MaxUncachedDiskPerfIOPS': None, 'DiskInfo': \"<div class='additionalinfo'><span class='value'>3000/46/23</span> <span class='description'>Max temp storage throughput: IOPS / Read MBps / Write MBps</span> <br /></div>\", 'MaxCachedDiskPerfIOPSMbps': 'Read: 46/ Write: 23', 'MaxCachedDiskPerfIOPS': '3000', 'SizeName': 'Standard_E2_v3', 'MaxNICExpectedBandwidth': '2 ', 'MaxTempStoragePerfIOPS': '3000', 'MaxUncachedDiskPerfIOPSMbps': None, 'MaxTempStoragePerfIOPSMbps': 'Read: 46/ Write: 23', 'vCPUs': 2, 'RegionName': 'Australia Southeast', 'SeriesName': \"<a href='https://docs.microsoft.com/en-us/azure/virtual-machines/windows/sizes-memory#ev3-series' target='_blank'>E v3</a>\", 'MemoryGB': '16', 'SizeCategory': 'Memory Optimized', 'Pricing_PAYG_W': '$0.252', 'CacheSizeGiB': None, 'MaxDataDiskCount': 4, 'NetworkBandwidthMbps': ' 1000', 'TempDiskSize': 50, 'AdditionalInfo': \"<div class='additionalinfo'></div\", 'Pricing_PAYG_L': '$0.160', 'GPU': None}\n",
      "Standard_E4_v3 $0.319 {'MaxUncachedDiskPerfIOPS': None, 'DiskInfo': \"<div class='additionalinfo'><span class='value'>6000/93/46</span> <span class='description'>Max temp storage throughput: IOPS / Read MBps / Write MBps</span> <br /></div>\", 'MaxCachedDiskPerfIOPSMbps': 'Read: 93/ Write: 46', 'MaxCachedDiskPerfIOPS': '6000', 'SizeName': 'Standard_E4_v3', 'MaxNICExpectedBandwidth': '2 ', 'MaxTempStoragePerfIOPS': '6000', 'MaxUncachedDiskPerfIOPSMbps': None, 'MaxTempStoragePerfIOPSMbps': 'Read: 93/ Write: 46', 'vCPUs': 4, 'RegionName': 'Australia Southeast', 'SeriesName': \"<a href='https://docs.microsoft.com/en-us/azure/virtual-machines/windows/sizes-memory#ev3-series' target='_blank'>E v3</a>\", 'MemoryGB': '32', 'SizeCategory': 'Memory Optimized', 'Pricing_PAYG_W': '$0.503', 'CacheSizeGiB': None, 'MaxDataDiskCount': 8, 'NetworkBandwidthMbps': ' 2000', 'TempDiskSize': 100, 'AdditionalInfo': \"<div class='additionalinfo'></div\", 'Pricing_PAYG_L': '$0.319', 'GPU': None}\n",
      "Standard_E8_v3 $0.638 {'MaxUncachedDiskPerfIOPS': None, 'DiskInfo': \"<div class='additionalinfo'><span class='value'>12000/187/93</span> <span class='description'>Max temp storage throughput: IOPS / Read MBps / Write MBps</span> <br /></div>\", 'MaxCachedDiskPerfIOPSMbps': 'Read: 187/ Write: 93', 'MaxCachedDiskPerfIOPS': '12000', 'SizeName': 'Standard_E8_v3', 'MaxNICExpectedBandwidth': '4 ', 'MaxTempStoragePerfIOPS': '12000', 'MaxUncachedDiskPerfIOPSMbps': None, 'MaxTempStoragePerfIOPSMbps': 'Read: 187/ Write: 93', 'vCPUs': 8, 'RegionName': 'Australia Southeast', 'SeriesName': \"<a href='https://docs.microsoft.com/en-us/azure/virtual-machines/windows/sizes-memory#ev3-series' target='_blank'>E v3</a>\", 'MemoryGB': '64', 'SizeCategory': 'Memory Optimized', 'Pricing_PAYG_W': '$1.006', 'CacheSizeGiB': None, 'MaxDataDiskCount': 16, 'NetworkBandwidthMbps': ' 4000', 'TempDiskSize': 200, 'AdditionalInfo': \"<div class='additionalinfo'></div\", 'Pricing_PAYG_L': '$0.638', 'GPU': None}\n",
      "Standard_E16_v3 $1.277 {'MaxUncachedDiskPerfIOPS': None, 'DiskInfo': \"<div class='additionalinfo'><span class='value'>24000/375/187</span> <span class='description'>Max temp storage throughput: IOPS / Read MBps / Write MBps</span> <br /></div>\", 'MaxCachedDiskPerfIOPSMbps': 'Read: 375/ Write: 187', 'MaxCachedDiskPerfIOPS': '24000', 'SizeName': 'Standard_E16_v3', 'MaxNICExpectedBandwidth': '8 ', 'MaxTempStoragePerfIOPS': '24000', 'MaxUncachedDiskPerfIOPSMbps': None, 'MaxTempStoragePerfIOPSMbps': 'Read: 375/ Write: 187', 'vCPUs': 16, 'RegionName': 'Australia Southeast', 'SeriesName': \"<a href='https://docs.microsoft.com/en-us/azure/virtual-machines/windows/sizes-memory#ev3-series' target='_blank'>E v3</a>\", 'MemoryGB': '128', 'SizeCategory': 'Memory Optimized', 'Pricing_PAYG_W': '$2.013', 'CacheSizeGiB': None, 'MaxDataDiskCount': 32, 'NetworkBandwidthMbps': ' 8000', 'TempDiskSize': 400, 'AdditionalInfo': \"<div class='additionalinfo'></div\", 'Pricing_PAYG_L': '$1.277', 'GPU': None}\n",
      "Standard_E32_v3 $2.554 {'MaxUncachedDiskPerfIOPS': None, 'DiskInfo': \"<div class='additionalinfo'><span class='value'>48000/750/375</span> <span class='description'>Max temp storage throughput: IOPS / Read MBps / Write MBps</span> <br /></div>\", 'MaxCachedDiskPerfIOPSMbps': 'Read: 750/ Write: 375', 'MaxCachedDiskPerfIOPS': '48000', 'SizeName': 'Standard_E32_v3', 'MaxNICExpectedBandwidth': '8 ', 'MaxTempStoragePerfIOPS': '48000', 'MaxUncachedDiskPerfIOPSMbps': None, 'MaxTempStoragePerfIOPSMbps': 'Read: 750/ Write: 375', 'vCPUs': 32, 'RegionName': 'Australia Southeast', 'SeriesName': \"<a href='https://docs.microsoft.com/en-us/azure/virtual-machines/windows/sizes-memory#ev3-series' target='_blank'>E v3</a>\", 'MemoryGB': '256', 'SizeCategory': 'Memory Optimized', 'Pricing_PAYG_W': '$4.026', 'CacheSizeGiB': None, 'MaxDataDiskCount': 32, 'NetworkBandwidthMbps': ' 16000', 'TempDiskSize': 800, 'AdditionalInfo': \"<div class='additionalinfo'></div\", 'Pricing_PAYG_L': '$2.554', 'GPU': None}\n",
      "Standard_E64_v3 $4.814 {'MaxUncachedDiskPerfIOPS': None, 'DiskInfo': \"<div class='additionalinfo'><span class='value'>96000/1000/500</span> <span class='description'>Max temp storage throughput: IOPS / Read MBps / Write MBps</span> <br /></div>\", 'MaxCachedDiskPerfIOPSMbps': 'Read: 1000/ Write: 500', 'MaxCachedDiskPerfIOPS': '96000', 'SizeName': 'Standard_E64_v3', 'MaxNICExpectedBandwidth': '8 ', 'MaxTempStoragePerfIOPS': '96000', 'MaxUncachedDiskPerfIOPSMbps': None, 'MaxTempStoragePerfIOPSMbps': 'Read: 1000/ Write: 500', 'vCPUs': 64, 'RegionName': 'Australia Southeast', 'SeriesName': \"<a href='https://docs.microsoft.com/en-us/azure/virtual-machines/windows/sizes-memory#ev3-series' target='_blank'>E v3</a>\", 'MemoryGB': '432', 'SizeCategory': 'Memory Optimized', 'Pricing_PAYG_W': '$7.589', 'CacheSizeGiB': None, 'MaxDataDiskCount': 32, 'NetworkBandwidthMbps': ' 30000', 'TempDiskSize': 1600, 'AdditionalInfo': \"<div class='additionalinfo'></div\", 'Pricing_PAYG_L': '$4.814', 'GPU': None}\n",
      "Standard_E2s_v3 $0.160 {'MaxUncachedDiskPerfIOPS': '3200 ', 'DiskInfo': \"<div class='additionalinfo'><span class='value'>4000 / 32 (50)</span> <span class='description'>Max cached and temp storage throughput: IOPS / MBps (cache size in GiB)</span> <br /><span class='value'>3200 / 48</span> <span class='description'>Max uncached disk throughput: IOPS / MBps</span> <br /></div>\", 'MaxCachedDiskPerfIOPSMbps': ' 32 ', 'MaxCachedDiskPerfIOPS': '4000 ', 'SizeName': 'Standard_E2s_v3', 'MaxNICExpectedBandwidth': '2 ', 'MaxTempStoragePerfIOPS': '4000 ', 'MaxUncachedDiskPerfIOPSMbps': ' 48', 'MaxTempStoragePerfIOPSMbps': ' 32 ', 'vCPUs': 2, 'RegionName': 'Australia Southeast', 'SeriesName': \"<a href='https://docs.microsoft.com/en-us/azure/virtual-machines/windows/sizes-memory#esv3-series' target='_blank'>ES v3</a>\", 'MemoryGB': '16', 'SizeCategory': 'Memory Optimized', 'Pricing_PAYG_W': '$0.252', 'CacheSizeGiB': '50', 'MaxDataDiskCount': 4, 'NetworkBandwidthMbps': ' 1000', 'TempDiskSize': 32, 'AdditionalInfo': \"<div class='additionalinfo'></div\", 'Pricing_PAYG_L': '$0.160', 'GPU': None}\n",
      "Standard_E4s_v3 $0.319 {'MaxUncachedDiskPerfIOPS': '6,400 ', 'DiskInfo': \"<div class='additionalinfo'><span class='value'>8,000 / 64 (100)</span> <span class='description'>Max cached and temp storage throughput: IOPS / MBps (cache size in GiB)</span> <br /><span class='value'>6,400 / 96</span> <span class='description'>Max uncached disk throughput: IOPS / MBps</span> <br /></div>\", 'MaxCachedDiskPerfIOPSMbps': ' 64 ', 'MaxCachedDiskPerfIOPS': '8,000 ', 'SizeName': 'Standard_E4s_v3', 'MaxNICExpectedBandwidth': '2 ', 'MaxTempStoragePerfIOPS': '8,000 ', 'MaxUncachedDiskPerfIOPSMbps': ' 96', 'MaxTempStoragePerfIOPSMbps': ' 64 ', 'vCPUs': 4, 'RegionName': 'Australia Southeast', 'SeriesName': \"<a href='https://docs.microsoft.com/en-us/azure/virtual-machines/windows/sizes-memory#esv3-series-sup1sup' target='_blank'>ES v3</a>\", 'MemoryGB': '32', 'SizeCategory': 'Memory Optimized', 'Pricing_PAYG_W': '$0.503', 'CacheSizeGiB': '100', 'MaxDataDiskCount': 8, 'NetworkBandwidthMbps': ' 2,000', 'TempDiskSize': 64, 'AdditionalInfo': \"<div class='additionalinfo'></div\", 'Pricing_PAYG_L': '$0.319', 'GPU': None}\n",
      "Standard_E8s_v3 $0.638 {'MaxUncachedDiskPerfIOPS': '12,800 ', 'DiskInfo': \"<div class='additionalinfo'><span class='value'>16,000 / 128 (200)</span> <span class='description'>Max cached and temp storage throughput: IOPS / MBps (cache size in GiB)</span> <br /><span class='value'>12,800 / 192</span> <span class='description'>Max uncached disk throughput: IOPS / MBps</span> <br /></div>\", 'MaxCachedDiskPerfIOPSMbps': ' 128 ', 'MaxCachedDiskPerfIOPS': '16,000 ', 'SizeName': 'Standard_E8s_v3', 'MaxNICExpectedBandwidth': '4 ', 'MaxTempStoragePerfIOPS': '16,000 ', 'MaxUncachedDiskPerfIOPSMbps': ' 192', 'MaxTempStoragePerfIOPSMbps': ' 128 ', 'vCPUs': 8, 'RegionName': 'Australia Southeast', 'SeriesName': \"<a href='https://docs.microsoft.com/en-us/azure/virtual-machines/windows/sizes-memory#esv3-series-sup1sup' target='_blank'>ES v3</a>\", 'MemoryGB': '64', 'SizeCategory': 'Memory Optimized', 'Pricing_PAYG_W': '$1.006', 'CacheSizeGiB': '200', 'MaxDataDiskCount': 16, 'NetworkBandwidthMbps': ' 4,000', 'TempDiskSize': 128, 'AdditionalInfo': \"<div class='additionalinfo'></div\", 'Pricing_PAYG_L': '$0.638', 'GPU': None}\n",
      "Standard_E16s_v3 $1.277 {'MaxUncachedDiskPerfIOPS': '25,600 ', 'DiskInfo': \"<div class='additionalinfo'><span class='value'>32,000 / 256 (400)</span> <span class='description'>Max cached and temp storage throughput: IOPS / MBps (cache size in GiB)</span> <br /><span class='value'>25,600 / 384</span> <span class='description'>Max uncached disk throughput: IOPS / MBps</span> <br /></div>\", 'MaxCachedDiskPerfIOPSMbps': ' 256 ', 'MaxCachedDiskPerfIOPS': '32,000 ', 'SizeName': 'Standard_E16s_v3', 'MaxNICExpectedBandwidth': '8 ', 'MaxTempStoragePerfIOPS': '32,000 ', 'MaxUncachedDiskPerfIOPSMbps': ' 384', 'MaxTempStoragePerfIOPSMbps': ' 256 ', 'vCPUs': 16, 'RegionName': 'Australia Southeast', 'SeriesName': \"<a href='https://docs.microsoft.com/en-us/azure/virtual-machines/windows/sizes-memory#esv3-series-sup1sup' target='_blank'>ES v3</a>\", 'MemoryGB': '128', 'SizeCategory': 'Memory Optimized', 'Pricing_PAYG_W': '$2.013', 'CacheSizeGiB': '400', 'MaxDataDiskCount': 32, 'NetworkBandwidthMbps': ' 8,000', 'TempDiskSize': 256, 'AdditionalInfo': \"<div class='additionalinfo'></div\", 'Pricing_PAYG_L': '$1.277', 'GPU': None}\n",
      "Standard_E32s_v3 $2.554 {'MaxUncachedDiskPerfIOPS': '51,200 ', 'DiskInfo': \"<div class='additionalinfo'><span class='value'>64,000 / 512 (800)</span> <span class='description'>Max cached and temp storage throughput: IOPS / MBps (cache size in GiB)</span> <br /><span class='value'>51,200 / 768</span> <span class='description'>Max uncached disk throughput: IOPS / MBps</span> <br /></div>\", 'MaxCachedDiskPerfIOPSMbps': ' 512 ', 'MaxCachedDiskPerfIOPS': '64,000 ', 'SizeName': 'Standard_E32s_v3', 'MaxNICExpectedBandwidth': '8 ', 'MaxTempStoragePerfIOPS': '64,000 ', 'MaxUncachedDiskPerfIOPSMbps': ' 768', 'MaxTempStoragePerfIOPSMbps': ' 512 ', 'vCPUs': 32, 'RegionName': 'Australia Southeast', 'SeriesName': \"<a href='https://docs.microsoft.com/en-us/azure/virtual-machines/windows/sizes-memory#esv3-series-sup1sup' target='_blank'>ES v3</a>\", 'MemoryGB': '256', 'SizeCategory': 'Memory Optimized', 'Pricing_PAYG_W': '$4.026', 'CacheSizeGiB': '800', 'MaxDataDiskCount': 32, 'NetworkBandwidthMbps': ' 16,000', 'TempDiskSize': 512, 'AdditionalInfo': \"<div class='additionalinfo'></div\", 'Pricing_PAYG_L': '$2.554', 'GPU': None}\n",
      "Standard_E64s_v3 $4.814 {'MaxUncachedDiskPerfIOPS': '80,000 ', 'DiskInfo': \"<div class='additionalinfo'><span class='value'>128,000/1024 (1600)</span> <span class='description'>Max cached and temp storage throughput: IOPS / MBps (cache size in GiB)</span> <br /><span class='value'>80,000 / 1200</span> <span class='description'>Max uncached disk throughput: IOPS / MBps</span> <br /></div>\", 'MaxCachedDiskPerfIOPSMbps': '1024 ', 'MaxCachedDiskPerfIOPS': '128,000', 'SizeName': 'Standard_E64s_v3', 'MaxNICExpectedBandwidth': '8 ', 'MaxTempStoragePerfIOPS': '128,000', 'MaxUncachedDiskPerfIOPSMbps': ' 1200', 'MaxTempStoragePerfIOPSMbps': '1024 ', 'vCPUs': 64, 'RegionName': 'Australia Southeast', 'SeriesName': \"<a href='https://docs.microsoft.com/en-us/azure/virtual-machines/windows/sizes-memory#esv3-series-sup1sup' target='_blank'>ES v3</a>\", 'MemoryGB': '432', 'SizeCategory': 'Memory Optimized', 'Pricing_PAYG_W': '$7.589', 'CacheSizeGiB': '1600', 'MaxDataDiskCount': 32, 'NetworkBandwidthMbps': ' 30,000', 'TempDiskSize': 864, 'AdditionalInfo': \"<div class='additionalinfo'></div\", 'Pricing_PAYG_L': '$4.814', 'GPU': None}\n",
      "Standard_M64ms $14.990 {'MaxUncachedDiskPerfIOPS': '40000 ', 'DiskInfo': \"<div class='additionalinfo'><span class='value'>80000 / 800 (6348)</span> <span class='description'>Max cached and temp storage throughput: IOPS / MBps (cache size in GiB)</span> <br /><span class='value'>40000 / 1000</span> <span class='description'>Max uncached disk throughput: IOPS / MBps</span> <br /></div>\", 'MaxCachedDiskPerfIOPSMbps': ' 800 ', 'MaxCachedDiskPerfIOPS': '80000 ', 'SizeName': 'Standard_M64ms', 'MaxNICExpectedBandwidth': '8 ', 'MaxTempStoragePerfIOPS': '80000 ', 'MaxUncachedDiskPerfIOPSMbps': ' 1000', 'MaxTempStoragePerfIOPSMbps': ' 800 ', 'vCPUs': 64, 'RegionName': 'Australia Southeast', 'SeriesName': \"<a href='https://docs.microsoft.com/en-us/azure/virtual-machines/windows/sizes-memory#m-series' target='_blank'>MS</a>\", 'MemoryGB': '1792', 'SizeCategory': 'Memory Optimized', 'Pricing_PAYG_W': '$19.552', 'CacheSizeGiB': '6348', 'MaxDataDiskCount': 64, 'NetworkBandwidthMbps': ' 16000', 'TempDiskSize': 2000, 'AdditionalInfo': \"<div class='additionalinfo'></div\", 'Pricing_PAYG_L': '$14.990', 'GPU': None}\n",
      "Standard_M64s $9.671 {'MaxUncachedDiskPerfIOPS': '40000 ', 'DiskInfo': \"<div class='additionalinfo'><span class='value'>80000 / 800 (6348)</span> <span class='description'>Max cached and temp storage throughput: IOPS / MBps (cache size in GiB)</span> <br /><span class='value'>40000 / 1000</span> <span class='description'>Max uncached disk throughput: IOPS / MBps</span> <br /></div>\", 'MaxCachedDiskPerfIOPSMbps': ' 800 ', 'MaxCachedDiskPerfIOPS': '80000 ', 'SizeName': 'Standard_M64s', 'MaxNICExpectedBandwidth': '8 ', 'MaxTempStoragePerfIOPS': '80000 ', 'MaxUncachedDiskPerfIOPSMbps': ' 1000', 'MaxTempStoragePerfIOPSMbps': ' 800 ', 'vCPUs': 64, 'RegionName': 'Australia Southeast', 'SeriesName': \"<a href='https://docs.microsoft.com/en-us/azure/virtual-machines/windows/sizes-memory#m-series' target='_blank'>M</a>\", 'MemoryGB': '1024', 'SizeCategory': 'Memory Optimized', 'Pricing_PAYG_W': '$12.615', 'CacheSizeGiB': '6348', 'MaxDataDiskCount': 64, 'NetworkBandwidthMbps': ' 16000', 'TempDiskSize': 2000, 'AdditionalInfo': \"<div class='additionalinfo'></div\", 'Pricing_PAYG_L': '$9.671', 'GPU': None}\n",
      "Standard_M128ms $38.701 {'MaxUncachedDiskPerfIOPS': '80,000 ', 'DiskInfo': \"<div class='additionalinfo'><span class='value'>160,000 / 1,600 (12,696)</span> <span class='description'>Max cached and temp storage throughput: IOPS / MBps (cache size in GiB)</span> <br /><span class='value'>80,000 / 2,000</span> <span class='description'>Max uncached disk throughput: IOPS / MBps</span> <br /></div>\", 'MaxCachedDiskPerfIOPSMbps': ' 1,600 ', 'MaxCachedDiskPerfIOPS': '160,000 ', 'SizeName': 'Standard_M128ms', 'MaxNICExpectedBandwidth': '8 ', 'MaxTempStoragePerfIOPS': '160,000 ', 'MaxUncachedDiskPerfIOPSMbps': ' 2,000', 'MaxTempStoragePerfIOPSMbps': ' 1,600 ', 'vCPUs': 128, 'RegionName': 'Australia Southeast', 'SeriesName': \"<a href='https://docs.microsoft.com/en-us/azure/virtual-machines/windows/sizes-memory#m-series-sup1sup' target='_blank'>MS</a>\", 'MemoryGB': '3800', 'SizeCategory': 'Memory Optimized', 'Pricing_PAYG_W': '$47.827', 'CacheSizeGiB': '12,696', 'MaxDataDiskCount': 64, 'NetworkBandwidthMbps': ' 30000', 'TempDiskSize': 4000, 'AdditionalInfo': \"<div class='additionalinfo'></div\", 'Pricing_PAYG_L': '$38.701', 'GPU': None}\n",
      "Standard_M128s $19.341 {'MaxUncachedDiskPerfIOPS': '80,000 ', 'DiskInfo': \"<div class='additionalinfo'><span class='value'>160,000 / 1,600 (12,696)</span> <span class='description'>Max cached and temp storage throughput: IOPS / MBps (cache size in GiB)</span> <br /><span class='value'>80,000 / 2,000</span> <span class='description'>Max uncached disk throughput: IOPS / MBps</span> <br /></div>\", 'MaxCachedDiskPerfIOPSMbps': ' 1,600 ', 'MaxCachedDiskPerfIOPS': '160,000 ', 'SizeName': 'Standard_M128s', 'MaxNICExpectedBandwidth': '8 ', 'MaxTempStoragePerfIOPS': '160,000 ', 'MaxUncachedDiskPerfIOPSMbps': ' 2,000', 'MaxTempStoragePerfIOPSMbps': ' 1,600 ', 'vCPUs': 128, 'RegionName': 'Australia Southeast', 'SeriesName': \"<a href='https://docs.microsoft.com/en-us/azure/virtual-machines/windows/sizes-memory#m-series-sup1sup' target='_blank'>M</a>\", 'MemoryGB': '2048', 'SizeCategory': 'Memory Optimized', 'Pricing_PAYG_W': '$25.229', 'CacheSizeGiB': '12,696', 'MaxDataDiskCount': 64, 'NetworkBandwidthMbps': ' 30000', 'TempDiskSize': 4000, 'AdditionalInfo': \"<div class='additionalinfo'></div\", 'Pricing_PAYG_L': '$19.341', 'GPU': None}\n"
     ]
    }
   ],
   "source": [
    "with open(azure_raw_location, 'r') as azure_raw_file:\n",
    "    azure_raw_json = json.load(azure_raw_file)['data']\n",
    "    \n",
    "    for size in azure_raw_json:\n",
    "        print(size['SizeName'], size['Pricing_PAYG_L'], size)"
   ]
  },
  {
   "cell_type": "markdown",
   "metadata": {},
   "source": [
    "### Ingesting the datasets\n",
    "Importing the datasets."
   ]
  },
  {
   "cell_type": "code",
   "execution_count": null,
   "metadata": {},
   "outputs": [],
   "source": [
    "catalyst_dataset = pd.read_csv(\"dataset/Rigorious Cloud price comparison - Exportable Catalyst prices.csv\")\n",
    "google_dataset = pd.read_csv(\"dataset/Rigorious Cloud price comparison - Exportable Google prices.csv\")\n",
    "aws_dataset = pd.read_csv(\"dataset/Rigorious Cloud price comparison - Exportable AWS prices.csv\")\n",
    "azure_dataset = pd.read_csv(\"dataset/Rigorious Cloud price comparison - Exportable Azure prices.csv\")"
   ]
  },
  {
   "cell_type": "markdown",
   "metadata": {},
   "source": [
    "Previewing the datasets."
   ]
  },
  {
   "cell_type": "code",
   "execution_count": null,
   "metadata": {},
   "outputs": [],
   "source": [
    "catalyst_dataset.head(6)"
   ]
  },
  {
   "cell_type": "markdown",
   "metadata": {},
   "source": [
    "Now we'll split the data into NumPy arrays of input features (X) and labels (Y)."
   ]
  },
  {
   "cell_type": "code",
   "execution_count": null,
   "metadata": {},
   "outputs": [],
   "source": [
    "def split_dataset (dataset):\n",
    "    x = dataset[[\"vCPUs\", \"RAM (GiB)\", \"HDD (GB)\", \"SSD (GB)\"]].values\n",
    "    y = dataset[\"Price per hour (NZD)\"].values\n",
    "    \n",
    "    return (x, y)"
   ]
  },
  {
   "cell_type": "code",
   "execution_count": null,
   "metadata": {},
   "outputs": [],
   "source": [
    "catalyst_x, catalyst_y = split_dataset(catalyst_dataset)\n",
    "google_x, google_y = split_dataset(google_dataset)\n",
    "aws_x, aws_y = split_dataset(aws_dataset)\n",
    "azure_x, azure_y = split_dataset(azure_dataset)"
   ]
  },
  {
   "cell_type": "markdown",
   "metadata": {},
   "source": [
    "## The math\n",
    "To analyse this dataset, we'll be using [multiple linear regression](https://en.wikipedia.org/wiki/Linear_regression) to predict the prices of compute instance flavors if they were being offered by cloud providers that do not typically offer that sized flavor.\n",
    "\n",
    "The multiple linear regression models will draw a hyperplane across our data space (in this case, 5 dimensional space) that comes as close as possible to intersecting every data point in our dataset. You can see an example of this (in 2 dimensional space) by Khan academy below."
   ]
  },
  {
   "cell_type": "code",
   "execution_count": null,
   "metadata": {},
   "outputs": [],
   "source": [
    "from IPython.core.display import display, HTML\n",
    "display(HTML('<iframe width=\"840\" height=\"472\" src=\"https://www.youtube-nocookie.com/embed/GAmzwIkGFgE?rel=0\" frameborder=\"0\" allowfullscreen></iframe>'))"
   ]
  },
  {
   "cell_type": "markdown",
   "metadata": {},
   "source": [
    "By then finding a point on the hyperplane that intersects with our vCPUs, RAM, HDD, and SSD axes, we can find the predicted price. This will give us a way to estimate the price of a flavour if it were offered by various cloud providers, even if they do not offer it.\n",
    "\n",
    "I've used linear regression as the predictive algorithm because I'm assuming that cloud providers scale their pricing in a linear patern. For example, Catalyst Cloud decides the price of their flavors with the equation: \n",
    "\n",
    "Price/hour = (RAM gb x 0.18) + (vCPU x 0.026)\n",
    "\n",
    "First we'll initialise the regression models, and train them on the cloud providers' prices."
   ]
  },
  {
   "cell_type": "code",
   "execution_count": null,
   "metadata": {},
   "outputs": [],
   "source": [
    "# Initialise regressors\n",
    "catalyst_linear = LinearRegression()\n",
    "google_linear = LinearRegression()\n",
    "aws_linear = LinearRegression()\n",
    "azure_linear = LinearRegression()\n",
    "\n",
    "# Train regressors\n",
    "catalyst_linear.fit(catalyst_x, catalyst_y)\n",
    "google_linear.fit(google_x, google_y)\n",
    "aws_linear.fit(aws_x, aws_y)\n",
    "azure_linear.fit(azure_x, azure_y)"
   ]
  },
  {
   "cell_type": "markdown",
   "metadata": {},
   "source": [
    "Now we have the models predict the other providers' instance prices. By having all providers predict the prices of all other providers, we can see if the pattern is maintained across different models."
   ]
  },
  {
   "cell_type": "code",
   "execution_count": null,
   "metadata": {},
   "outputs": [],
   "source": [
    "# Predict Catalyst X\n",
    "google_cata_price = google_linear.predict(catalyst_x)\n",
    "aws_cata_price = aws_linear.predict(catalyst_x)\n",
    "azure_cata_price = azure_linear.predict(catalyst_x)\n",
    "\n",
    "# Predict Google X\n",
    "aws_goog_price = aws_linear.predict(google_x)\n",
    "azure_goog_price = azure_linear.predict(google_x)\n",
    "catalyst_goog_price = catalyst_linear.predict(google_x)\n",
    "\n",
    "# Predict AWS X\n",
    "google_aws_price = google_linear.predict(aws_x)\n",
    "azure_aws_price = azure_linear.predict(aws_x)\n",
    "catalyst_aws_price = catalyst_linear.predict(aws_x)\n",
    "\n",
    "# Predict Azure X\n",
    "google_azure_price = google_linear.predict(azure_x)\n",
    "aws_azure_price = aws_linear.predict(azure_x)\n",
    "catalyst_azure_price = catalyst_linear.predict(azure_x)"
   ]
  },
  {
   "cell_type": "markdown",
   "metadata": {},
   "source": [
    "## The results\n",
    "\n",
    "Now we have the results together, where we can compare the prices against each other on an even scale.\n",
    "\n",
    "A good scientist would, at this point, verify their results by comparing an intersection between the predicted output and the actual output. I would love to do this. However I could find no such intersection.\n",
    "\n",
    "You can find the datasets this analysis is based on [here](https://github.com/catalyst-cloud/catalystcloud-price-comparison/raw/master/dataset/Cloud%20price%20comparison.ods), and a chart plotting this data, [here](https://object-storage.nz-por-1.catalystcloud.io/v1/AUTH_8ccc3286887e49cb9a40f023eba693b4/catalyst-cloud-price-comp/).\n",
    "\n",
    "Please note that the X axis is a range from zero to the number of flavors offered by each provider. Each number on the X axis represents a single flavor by the provider we are predicting. I've done it this way because the plotting method does not support non-numerical axis ticks."
   ]
  },
  {
   "cell_type": "code",
   "execution_count": null,
   "metadata": {},
   "outputs": [],
   "source": [
    "def graph_pred (names, predictions):\n",
    "    flavors_num = predictions[0].shape[0]\n",
    "    for index, name in enumerate(names):\n",
    "        plt.plot(range(flavors_num), predictions[index], label=names[index])\n",
    "    plt.legend(loc=2)"
   ]
  },
  {
   "cell_type": "markdown",
   "metadata": {},
   "source": [
    "### Predicting Catalyst Cloud"
   ]
  },
  {
   "cell_type": "code",
   "execution_count": null,
   "metadata": {},
   "outputs": [],
   "source": [
    "graph_pred([\n",
    "        \"Catalyst\", \"Google\", \"AWS\", \"Azure\"\n",
    "    ], [\n",
    "        catalyst_y, google_cata_price, aws_cata_price, azure_cata_price\n",
    "    ])"
   ]
  },
  {
   "cell_type": "markdown",
   "metadata": {},
   "source": [
    "### Predicting Google Cloud"
   ]
  },
  {
   "cell_type": "code",
   "execution_count": null,
   "metadata": {},
   "outputs": [],
   "source": [
    "graph_pred([\n",
    "        \"Catalyst\", \"Google\", \"AWS\", \"Azure\"\n",
    "    ], [\n",
    "        catalyst_goog_price,\n",
    "        google_y,\n",
    "        aws_goog_price,\n",
    "        azure_goog_price,\n",
    "        \n",
    "    ])"
   ]
  },
  {
   "cell_type": "markdown",
   "metadata": {},
   "source": [
    "### Predicting AWS"
   ]
  },
  {
   "cell_type": "code",
   "execution_count": null,
   "metadata": {},
   "outputs": [],
   "source": [
    "graph_pred([\n",
    "        \"Catalyst\", \"Google\", \"AWS\", \"Azure\"\n",
    "    ], [\n",
    "        catalyst_aws_price,\n",
    "        google_aws_price,\n",
    "        aws_y,\n",
    "        azure_aws_price,\n",
    "    ])"
   ]
  },
  {
   "cell_type": "markdown",
   "metadata": {},
   "source": [
    "### Predicting Azure"
   ]
  },
  {
   "cell_type": "code",
   "execution_count": null,
   "metadata": {},
   "outputs": [],
   "source": [
    "graph_pred([\n",
    "        \"Catalyst\", \"Google\", \"AWS\", \"Azure\"\n",
    "    ], [\n",
    "        catalyst_azure_price,\n",
    "        google_azure_price,\n",
    "        aws_azure_price,\n",
    "        azure_y\n",
    "    ])"
   ]
  },
  {
   "cell_type": "markdown",
   "metadata": {},
   "source": [
    "### Interpreting the results\n",
    "\n",
    "As you can see, the multiple linear regression model consistently predicts that Catalyst Cloud would offer either the cheapest, or competitively priced compute instances.\n",
    "\n",
    "While this is by no means a perfect indicator of who is the cheapest and should not be taken as such, it does serve to dispel the idea that Catalyst Cloud is overpriced, or cannot compete with international companies on price."
   ]
  }
 ],
 "metadata": {
  "anaconda-cloud": {},
  "kernelspec": {
   "display_name": "Python 3",
   "language": "python",
   "name": "python3"
  },
  "language_info": {
   "codemirror_mode": {
    "name": "ipython",
    "version": 3
   },
   "file_extension": ".py",
   "mimetype": "text/x-python",
   "name": "python",
   "nbconvert_exporter": "python",
   "pygments_lexer": "ipython3",
   "version": "3.5.2"
  }
 },
 "nbformat": 4,
 "nbformat_minor": 2
}
